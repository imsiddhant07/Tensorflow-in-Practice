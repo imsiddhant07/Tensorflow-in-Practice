{
  "nbformat": 4,
  "nbformat_minor": 0,
  "metadata": {
    "colab": {
      "name": "TF-CNNs3.ipynb",
      "provenance": [],
      "toc_visible": true,
      "authorship_tag": "ABX9TyPusZ1xCjb1zhcFmH+vOi8T",
      "include_colab_link": true
    },
    "kernelspec": {
      "name": "python3",
      "display_name": "Python 3"
    },
    "accelerator": "GPU"
  },
  "cells": [
    {
      "cell_type": "markdown",
      "metadata": {
        "id": "view-in-github",
        "colab_type": "text"
      },
      "source": [
        "<a href=\"https://colab.research.google.com/github/siddhantjain07/Tensorflow-in-Practice/blob/master/2.TF-CNNs/TF_CNNs3.ipynb\" target=\"_parent\"><img src=\"https://colab.research.google.com/assets/colab-badge.svg\" alt=\"Open In Colab\"/></a>"
      ]
    },
    {
      "cell_type": "markdown",
      "metadata": {
        "id": "aqYOCE13xvTp",
        "colab_type": "text"
      },
      "source": [
        "##Using pre-trained models"
      ]
    },
    {
      "cell_type": "code",
      "metadata": {
        "id": "vk-7Pct4uM9r",
        "colab_type": "code",
        "colab": {
          "base_uri": "https://localhost:8080/",
          "height": 241
        },
        "outputId": "68734061-c39f-44c8-d8fd-f2baa3eeaa4d"
      },
      "source": [
        "import os\n",
        "from tensorflow.keras import layers\n",
        "from tensorflow.keras import Model\n",
        "\n",
        "!wget --no-check-certificate \\\n",
        "    https://storage.googleapis.com/mledu-datasets/inception_v3_weights_tf_dim_ordering_tf_kernels_notop.h5 \\\n",
        "    -O /tmp/inception_v3_weights_tf_dim_ordering_tf_kernels_notop.h5\n",
        "\n",
        "from tensorflow.keras.applications.inception_v3 import InceptionV3\n",
        "\n",
        "local_weights_file = '/tmp/inception_v3_weights_tf_dim_ordering_tf_kernels_notop.h5'\n",
        "\n",
        "pre_trained_model = InceptionV3(input_shape = (150, 150, 3), \n",
        "                                include_top = False,\n",
        "                                weights = None)\n",
        "\n",
        "pre_trained_model.load_weights(local_weights_file)\n",
        "\n",
        "for layer in pre_trained_model.layers:\n",
        "  layer.trainable = False\n",
        "\n",
        "#pre_trained_model.summary()\n",
        "\n",
        "last_layer = pre_trained_model.get_layer('mixed7')\n",
        "print('last layer output shape: ', last_layer.output_shape)\n",
        "last_output = last_layer.output"
      ],
      "execution_count": 2,
      "outputs": [
        {
          "output_type": "stream",
          "text": [
            "--2020-09-17 14:05:33--  https://storage.googleapis.com/mledu-datasets/inception_v3_weights_tf_dim_ordering_tf_kernels_notop.h5\n",
            "Resolving storage.googleapis.com (storage.googleapis.com)... 108.177.119.128, 108.177.126.128, 108.177.127.128, ...\n",
            "Connecting to storage.googleapis.com (storage.googleapis.com)|108.177.119.128|:443... connected.\n",
            "HTTP request sent, awaiting response... 200 OK\n",
            "Length: 87910968 (84M) [application/x-hdf]\n",
            "Saving to: ‘/tmp/inception_v3_weights_tf_dim_ordering_tf_kernels_notop.h5’\n",
            "\n",
            "/tmp/inception_v3_w 100%[===================>]  83.84M  50.4MB/s    in 1.7s    \n",
            "\n",
            "2020-09-17 14:05:35 (50.4 MB/s) - ‘/tmp/inception_v3_weights_tf_dim_ordering_tf_kernels_notop.h5’ saved [87910968/87910968]\n",
            "\n",
            "last layer output shape:  (None, 7, 7, 768)\n"
          ],
          "name": "stdout"
        }
      ]
    },
    {
      "cell_type": "code",
      "metadata": {
        "id": "jaL7IJW7bZtH",
        "colab_type": "code",
        "colab": {}
      },
      "source": [
        "import tensorflow as tf"
      ],
      "execution_count": 4,
      "outputs": []
    },
    {
      "cell_type": "code",
      "metadata": {
        "id": "c53piKQJYTpb",
        "colab_type": "code",
        "colab": {}
      },
      "source": [
        "from tensorflow.keras.optimizers import RMSprop\n",
        "\n",
        "# Flatten the output layer to 1 dimension\n",
        "# Add a fully connected layer with 1,024 hidden units and ReLU activation\n",
        "# Add a dropout rate of 0.2               \n",
        "# Add a final sigmoid layer for classification\n",
        "\n",
        "\n",
        "x = layers.Flatten()(last_output)\n",
        "x = layers.Dense(1024, activation=tf.nn.relu)(x)\n",
        "x = layers.Dropout(0.2)(x)\n",
        "x = layers.Dense(1, activation=tf.nn.sigmoid)(x)\n",
        "\n",
        "model = Model(pre_trained_model.input, x)\n",
        "\n",
        "model.compile(optimizer = RMSprop(lr = 0.0001),\n",
        "              loss = 'binary_crossentropy',\n",
        "              metrics = ['accuracy'])"
      ],
      "execution_count": 6,
      "outputs": []
    },
    {
      "cell_type": "code",
      "metadata": {
        "id": "EfPH7DYlbT4R",
        "colab_type": "code",
        "colab": {
          "base_uri": "https://localhost:8080/",
          "height": 260
        },
        "outputId": "1a520395-1d12-470a-a37a-c9eeb717b4db"
      },
      "source": [
        "!wget --no-check-certificate \\\n",
        "        https://storage.googleapis.com/mledu-datasets/cats_and_dogs_filtered.zip \\\n",
        "       -O /tmp/cats_and_dogs_filtered.zip\n",
        "\n",
        "from tensorflow.keras.preprocessing.image import ImageDataGenerator\n",
        "\n",
        "import os\n",
        "import zipfile\n",
        "\n",
        "local_zip = '//tmp/cats_and_dogs_filtered.zip'\n",
        "\n",
        "zip_ref = zipfile.ZipFile(local_zip, 'r')\n",
        "\n",
        "zip_ref.extractall('/tmp')\n",
        "zip_ref.close()\n",
        "\n",
        "# Define our example directories and files\n",
        "base_dir = '/tmp/cats_and_dogs_filtered'\n",
        "\n",
        "train_dir = os.path.join( base_dir, 'train')\n",
        "validation_dir = os.path.join( base_dir, 'validation')\n",
        "\n",
        "\n",
        "train_cats_dir = os.path.join(train_dir, 'cats')                       # Directory with our training cat pictures\n",
        "train_dogs_dir = os.path.join(train_dir, 'dogs')                       # Directory with our training dog pictures\n",
        "validation_cats_dir = os.path.join(validation_dir, 'cats')             # Directory with our validation cat pictures\n",
        "validation_dogs_dir = os.path.join(validation_dir, 'dogs')             # Directory with our validation dog pictures\n",
        "\n",
        "train_cat_fnames = os.listdir(train_cats_dir)\n",
        "train_dog_fnames = os.listdir(train_dogs_dir)\n",
        "\n",
        "# Add our data-augmentation parameters to ImageDataGenerator\n",
        "train_datagen = ImageDataGenerator(rescale = 1./255.,\n",
        "                                   rotation_range = 40,\n",
        "                                   width_shift_range = 0.2,\n",
        "                                   height_shift_range = 0.2,\n",
        "                                   shear_range = 0.2,\n",
        "                                   zoom_range = 0.2,\n",
        "                                   horizontal_flip = True)\n",
        "\n",
        "# Note that the validation data should not be augmented!\n",
        "test_datagen = ImageDataGenerator( rescale = 1.0/255. )\n",
        "\n",
        "# Flow training images in batches of 20 using train_datagen generator\n",
        "train_generator = train_datagen.flow_from_directory(train_dir,\n",
        "                                                    batch_size = 20,\n",
        "                                                    class_mode = 'binary', \n",
        "                                                    target_size = (150, 150))     \n",
        "\n",
        "# Flow validation images in batches of 20 using test_datagen generator\n",
        "validation_generator =  test_datagen.flow_from_directory( validation_dir,\n",
        "                                                          batch_size  = 20,\n",
        "                                                          class_mode  = 'binary', \n",
        "                                                          target_size = (150, 150))"
      ],
      "execution_count": 7,
      "outputs": [
        {
          "output_type": "stream",
          "text": [
            "--2020-09-17 14:19:20--  https://storage.googleapis.com/mledu-datasets/cats_and_dogs_filtered.zip\n",
            "Resolving storage.googleapis.com (storage.googleapis.com)... 108.177.126.128, 108.177.127.128, 173.194.69.128, ...\n",
            "Connecting to storage.googleapis.com (storage.googleapis.com)|108.177.126.128|:443... connected.\n",
            "HTTP request sent, awaiting response... 200 OK\n",
            "Length: 68606236 (65M) [application/zip]\n",
            "Saving to: ‘/tmp/cats_and_dogs_filtered.zip’\n",
            "\n",
            "/tmp/cats_and_dogs_ 100%[===================>]  65.43M  61.4MB/s    in 1.1s    \n",
            "\n",
            "2020-09-17 14:19:21 (61.4 MB/s) - ‘/tmp/cats_and_dogs_filtered.zip’ saved [68606236/68606236]\n",
            "\n",
            "Found 2000 images belonging to 2 classes.\n",
            "Found 1000 images belonging to 2 classes.\n"
          ],
          "name": "stdout"
        }
      ]
    },
    {
      "cell_type": "code",
      "metadata": {
        "id": "4tyuZrJgbxVJ",
        "colab_type": "code",
        "colab": {
          "base_uri": "https://localhost:8080/",
          "height": 764
        },
        "outputId": "fbf020a6-964a-4699-b4d0-1f22166a1eef"
      },
      "source": [
        "history = model.fit(\n",
        "            train_generator,\n",
        "            validation_data = validation_generator,\n",
        "            steps_per_epoch = 100,\n",
        "            epochs = 20,\n",
        "            validation_steps = 50,\n",
        "            verbose = 2)"
      ],
      "execution_count": 8,
      "outputs": [
        {
          "output_type": "stream",
          "text": [
            "Epoch 1/20\n",
            "100/100 - 18s - loss: 0.3459 - accuracy: 0.8595 - val_loss: 0.0993 - val_accuracy: 0.9630\n",
            "Epoch 2/20\n",
            "100/100 - 17s - loss: 0.2142 - accuracy: 0.9205 - val_loss: 0.1528 - val_accuracy: 0.9470\n",
            "Epoch 3/20\n",
            "100/100 - 17s - loss: 0.2070 - accuracy: 0.9235 - val_loss: 0.2410 - val_accuracy: 0.9250\n",
            "Epoch 4/20\n",
            "100/100 - 17s - loss: 0.1994 - accuracy: 0.9265 - val_loss: 0.1352 - val_accuracy: 0.9550\n",
            "Epoch 5/20\n",
            "100/100 - 17s - loss: 0.1892 - accuracy: 0.9365 - val_loss: 0.1191 - val_accuracy: 0.9630\n",
            "Epoch 6/20\n",
            "100/100 - 17s - loss: 0.1668 - accuracy: 0.9385 - val_loss: 0.1142 - val_accuracy: 0.9650\n",
            "Epoch 7/20\n",
            "100/100 - 17s - loss: 0.1545 - accuracy: 0.9390 - val_loss: 0.0981 - val_accuracy: 0.9670\n",
            "Epoch 8/20\n",
            "100/100 - 17s - loss: 0.1593 - accuracy: 0.9525 - val_loss: 0.1247 - val_accuracy: 0.9680\n",
            "Epoch 9/20\n",
            "100/100 - 17s - loss: 0.1562 - accuracy: 0.9415 - val_loss: 0.1148 - val_accuracy: 0.9670\n",
            "Epoch 10/20\n",
            "100/100 - 17s - loss: 0.1610 - accuracy: 0.9405 - val_loss: 0.1149 - val_accuracy: 0.9640\n",
            "Epoch 11/20\n",
            "100/100 - 17s - loss: 0.1526 - accuracy: 0.9460 - val_loss: 0.1772 - val_accuracy: 0.9540\n",
            "Epoch 12/20\n",
            "100/100 - 17s - loss: 0.1530 - accuracy: 0.9505 - val_loss: 0.1048 - val_accuracy: 0.9690\n",
            "Epoch 13/20\n",
            "100/100 - 17s - loss: 0.1403 - accuracy: 0.9515 - val_loss: 0.1414 - val_accuracy: 0.9620\n",
            "Epoch 14/20\n",
            "100/100 - 17s - loss: 0.1517 - accuracy: 0.9520 - val_loss: 0.2074 - val_accuracy: 0.9510\n",
            "Epoch 15/20\n",
            "100/100 - 17s - loss: 0.1270 - accuracy: 0.9480 - val_loss: 0.1426 - val_accuracy: 0.9640\n",
            "Epoch 16/20\n",
            "100/100 - 17s - loss: 0.1374 - accuracy: 0.9545 - val_loss: 0.1879 - val_accuracy: 0.9580\n",
            "Epoch 17/20\n",
            "100/100 - 17s - loss: 0.1301 - accuracy: 0.9600 - val_loss: 0.1384 - val_accuracy: 0.9670\n",
            "Epoch 18/20\n",
            "100/100 - 17s - loss: 0.1441 - accuracy: 0.9530 - val_loss: 0.1288 - val_accuracy: 0.9680\n",
            "Epoch 19/20\n",
            "100/100 - 17s - loss: 0.1307 - accuracy: 0.9545 - val_loss: 0.1491 - val_accuracy: 0.9640\n",
            "Epoch 20/20\n",
            "100/100 - 17s - loss: 0.1175 - accuracy: 0.9625 - val_loss: 0.1453 - val_accuracy: 0.9640\n"
          ],
          "name": "stdout"
        }
      ]
    },
    {
      "cell_type": "code",
      "metadata": {
        "id": "OBP3-lPvb0Na",
        "colab_type": "code",
        "colab": {
          "base_uri": "https://localhost:8080/",
          "height": 300
        },
        "outputId": "326084d1-5817-46a7-ddc5-2fb5c860b2b2"
      },
      "source": [
        "import matplotlib.pyplot as plt\n",
        "acc = history.history['accuracy']\n",
        "val_acc = history.history['val_accuracy']\n",
        "loss = history.history['loss']\n",
        "val_loss = history.history['val_loss']\n",
        "\n",
        "epochs = range(len(acc))\n",
        "\n",
        "plt.plot(epochs, acc, 'r', label='Training accuracy')\n",
        "plt.plot(epochs, val_acc, 'b', label='Validation accuracy')\n",
        "plt.title('Training and validation accuracy')\n",
        "plt.legend(loc=0)\n",
        "plt.figure()\n",
        "\n",
        "\n",
        "plt.show()"
      ],
      "execution_count": 9,
      "outputs": [
        {
          "output_type": "display_data",
          "data": {
            "image/png": "[encoded data removed]",
            "text/plain": [
              "<Figure size 432x288 with 1 Axes>"
            ]
          },
          "metadata": {
            "tags": [],
            "needs_background": "light"
          }
        },
        {
          "output_type": "display_data",
          "data": {
            "text/plain": [
              "<Figure size 432x288 with 0 Axes>"
            ]
          },
          "metadata": {
            "tags": []
          }
        }
      ]
    },
    {
      "cell_type": "code",
      "metadata": {
        "id": "RkvWwNTacfQ5",
        "colab_type": "code",
        "colab": {}
      },
      "source": [
        ""
      ],
      "execution_count": null,
      "outputs": []
    }
  ]
}