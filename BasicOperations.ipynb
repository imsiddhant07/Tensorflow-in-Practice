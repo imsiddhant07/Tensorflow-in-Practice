{
  "nbformat": 4,
  "nbformat_minor": 0,
  "metadata": {
    "colab": {
      "name": "BasicOperations.ipynb",
      "provenance": [],
      "collapsed_sections": [],
      "authorship_tag": "ABX9TyPjQ6h7Hm9U8oKeSkajwl7q",
      "include_colab_link": true
    },
    "kernelspec": {
      "name": "python3",
      "display_name": "Python 3"
    }
  },
  "cells": [
    {
      "cell_type": "markdown",
      "metadata": {
        "id": "view-in-github",
        "colab_type": "text"
      },
      "source": [
        "<a href=\"https://colab.research.google.com/github/siddhantjain07/Tensorflow-Practice/blob/master/BasicOperations.ipynb\" target=\"_parent\"><img src=\"https://colab.research.google.com/assets/colab-badge.svg\" alt=\"Open In Colab\"/></a>"
      ]
    },
    {
      "cell_type": "markdown",
      "metadata": {
        "id": "nFide_AUAH6T",
        "colab_type": "text"
      },
      "source": [
        "#Basic Operations using TensorFlow\n",
        "\n",
        "###Author : Siddhant Jain\n",
        "###Project : https://github.com/siddhantjain07/Tensorflow-Practice"
      ]
    },
    {
      "cell_type": "code",
      "metadata": {
        "id": "l9MJU8mP_8yq",
        "colab_type": "code",
        "colab": {}
      },
      "source": [
        "from __future__ import print_function\n",
        "import tensorflow as tf\n",
        "import numpy"
      ],
      "execution_count": 0,
      "outputs": []
    },
    {
      "cell_type": "code",
      "metadata": {
        "id": "548bNE_rApNx",
        "colab_type": "code",
        "colab": {}
      },
      "source": [
        "#Define Tensor constants\n",
        "a = tf.constant(54)\n",
        "b = tf.constant(63)\n",
        "c = tf.constant(12)\n",
        "d = tf.constant(93)"
      ],
      "execution_count": 0,
      "outputs": []
    },
    {
      "cell_type": "code",
      "metadata": {
        "id": "y0H1qZKBBDQM",
        "colab_type": "code",
        "colab": {}
      },
      "source": [
        "#Create basic math functions on created constants \n",
        "add = tf.add(a,b,name=\"add\")\n",
        "sub = tf.subtract(c,d,name=\"sub\")\n",
        "mul = tf.multiply(b,d,name=\"mul\")\n",
        "div = tf.divide(a,c,name=\"div\")"
      ],
      "execution_count": 0,
      "outputs": []
    },
    {
      "cell_type": "code",
      "metadata": {
        "id": "YJ7FUv0ABlwW",
        "colab_type": "code",
        "colab": {
          "base_uri": "https://localhost:8080/",
          "height": 86
        },
        "outputId": "abb61fbd-ec63-44c3-cc9c-7fe65c71b202"
      },
      "source": [
        "#Access Tensor values\n",
        "#Display them , and use .numpy() to access the value \n",
        "#Also used f-strings for printing \n",
        "print(\"Addition of {} and {} is {}\".format(a,b,add.numpy()))\n",
        "print(\"Subtraction of {} and {} is {}\".format(c,d,sub.numpy()))\n",
        "print(\"Multiplication for {} and {} is {}\".format(b,d,mul.numpy()))\n",
        "print(\"Divsion of {} and {} is {}\".format(a,c,div.numpy()))"
      ],
      "execution_count": 9,
      "outputs": [
        {
          "output_type": "stream",
          "text": [
            "Addition of 54 and 63 is 117\n",
            "Subtraction of 12 and 93 is -81\n",
            "Multiplication for 63 and 93 is 5859\n",
            "Divsion of 54 and 12 is 4.5\n"
          ],
          "name": "stdout"
        }
      ]
    },
    {
      "cell_type": "code",
      "metadata": {
        "id": "8gOsxvDdBypX",
        "colab_type": "code",
        "colab": {
          "base_uri": "https://localhost:8080/",
          "height": 52
        },
        "outputId": "10ec1a28-1ff0-45b5-da84-7170b6c1af3e"
      },
      "source": [
        "#Some more operations \n",
        "mean = tf.reduce_mean([a,b,c,d])\n",
        "sum = tf.reduce_sum([a,b,c,d])\n",
        "\n",
        "#Access Tensor Values\n",
        "print(\"Mean of created constants\",mean.numpy())\n",
        "print(\"Sum of created constants\",sum.numpy())"
      ],
      "execution_count": 12,
      "outputs": [
        {
          "output_type": "stream",
          "text": [
            "Mean of created constants 55\n",
            "Sum of created constants 222\n"
          ],
          "name": "stdout"
        }
      ]
    },
    {
      "cell_type": "code",
      "metadata": {
        "id": "-C805FA6DJXM",
        "colab_type": "code",
        "colab": {}
      },
      "source": [
        "#Creating Matrices\n",
        "A = tf.constant([[1.0 ,3.0],[9.0 ,7.0]])\n",
        "B = tf.constant([[4.0 ,8.0],[1.0, 0.5]])\n",
        "\n",
        "product = tf.matmul(A,B)"
      ],
      "execution_count": 0,
      "outputs": []
    },
    {
      "cell_type": "code",
      "metadata": {
        "id": "jXyqWWT7EukH",
        "colab_type": "code",
        "colab": {
          "base_uri": "https://localhost:8080/",
          "height": 69
        },
        "outputId": "b4724222-2f23-4da9-abbc-9bb9aecb0c31"
      },
      "source": [
        "#Accessing the Tensor\n",
        "product"
      ],
      "execution_count": 14,
      "outputs": [
        {
          "output_type": "execute_result",
          "data": {
            "text/plain": [
              "<tf.Tensor: shape=(2, 2), dtype=float32, numpy=\n",
              "array([[ 7. ,  9.5],\n",
              "       [43. , 75.5]], dtype=float32)>"
            ]
          },
          "metadata": {
            "tags": []
          },
          "execution_count": 14
        }
      ]
    },
    {
      "cell_type": "code",
      "metadata": {
        "id": "mbTgGVdoEvuy",
        "colab_type": "code",
        "colab": {
          "base_uri": "https://localhost:8080/",
          "height": 52
        },
        "outputId": "5b5faa38-a055-4c50-bf6d-6f978ebfcfd2"
      },
      "source": [
        "#Converting Tensor to Numpy\n",
        "product.numpy()"
      ],
      "execution_count": 15,
      "outputs": [
        {
          "output_type": "execute_result",
          "data": {
            "text/plain": [
              "array([[ 7. ,  9.5],\n",
              "       [43. , 75.5]], dtype=float32)"
            ]
          },
          "metadata": {
            "tags": []
          },
          "execution_count": 15
        }
      ]
    },
    {
      "cell_type": "code",
      "metadata": {
        "id": "MTt4EYyvE3no",
        "colab_type": "code",
        "colab": {}
      },
      "source": [
        ""
      ],
      "execution_count": 0,
      "outputs": []
    }
  ]
}