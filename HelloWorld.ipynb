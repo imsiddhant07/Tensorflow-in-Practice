{
  "nbformat": 4,
  "nbformat_minor": 0,
  "metadata": {
    "colab": {
      "name": "HelloWorld.ipynb",
      "provenance": [],
      "authorship_tag": "ABX9TyPH2tkiHHRE2RsKvitNTMaq",
      "include_colab_link": true
    },
    "kernelspec": {
      "name": "python3",
      "display_name": "Python 3"
    }
  },
  "cells": [
    {
      "cell_type": "markdown",
      "metadata": {
        "id": "view-in-github",
        "colab_type": "text"
      },
      "source": [
        "<a href=\"https://colab.research.google.com/github/siddhantjain07/Tensorflow-Practice/blob/master/HelloWorld.ipynb\" target=\"_parent\"><img src=\"https://colab.research.google.com/assets/colab-badge.svg\" alt=\"Open In Colab\"/></a>"
      ]
    },
    {
      "cell_type": "markdown",
      "metadata": {
        "id": "-NPMS5ntplUQ",
        "colab_type": "text"
      },
      "source": [
        "## Importing libraries"
      ]
    },
    {
      "cell_type": "code",
      "metadata": {
        "id": "XBoSxn64orCI",
        "colab_type": "code",
        "colab": {}
      },
      "source": [
        "import tensorflow as tf\n",
        "import numpy "
      ],
      "execution_count": 0,
      "outputs": []
    },
    {
      "cell_type": "markdown",
      "metadata": {
        "id": "NqxaWpLIpu_Z",
        "colab_type": "text"
      },
      "source": [
        "##Defining text as constant "
      ]
    },
    {
      "cell_type": "code",
      "metadata": {
        "id": "Ct2S0ygcpcrX",
        "colab_type": "code",
        "colab": {}
      },
      "source": [
        "text = tf.constant(\"Hello, TensorFlow !\")"
      ],
      "execution_count": 0,
      "outputs": []
    },
    {
      "cell_type": "code",
      "metadata": {
        "id": "t4WXGCdIp3dl",
        "colab_type": "code",
        "colab": {
          "base_uri": "https://localhost:8080/",
          "height": 34
        },
        "outputId": "e9b2abe7-2ba5-4daf-973c-e16d6fa8c5fe"
      },
      "source": [
        "print(text)"
      ],
      "execution_count": 3,
      "outputs": [
        {
          "output_type": "stream",
          "text": [
            "tf.Tensor(b'Hello, TensorFlow !', shape=(), dtype=string)\n"
          ],
          "name": "stdout"
        }
      ]
    },
    {
      "cell_type": "markdown",
      "metadata": {
        "id": "ud5caT3CqGGI",
        "colab_type": "text"
      },
      "source": [
        "##To access the value of the constant , use numpy"
      ]
    },
    {
      "cell_type": "code",
      "metadata": {
        "id": "lNbeuQtgp9BH",
        "colab_type": "code",
        "colab": {
          "base_uri": "https://localhost:8080/",
          "height": 34
        },
        "outputId": "b9b9c61d-91ee-41a3-e873-1b8ad3347c17"
      },
      "source": [
        "print(text.numpy())"
      ],
      "execution_count": 4,
      "outputs": [
        {
          "output_type": "stream",
          "text": [
            "b'Hello, TensorFlow !'\n"
          ],
          "name": "stdout"
        }
      ]
    }
  ]
}