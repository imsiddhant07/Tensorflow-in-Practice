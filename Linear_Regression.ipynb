{
  "nbformat": 4,
  "nbformat_minor": 0,
  "metadata": {
    "colab": {
      "name": "Linear_Regression.ipynb",
      "provenance": [],
      "collapsed_sections": [],
      "authorship_tag": "ABX9TyMgxeIBnot3C/x1xmBuvc2K",
      "include_colab_link": true
    },
    "kernelspec": {
      "name": "python3",
      "display_name": "Python 3"
    }
  },
  "cells": [
    {
      "cell_type": "markdown",
      "metadata": {
        "id": "view-in-github",
        "colab_type": "text"
      },
      "source": [
        "<a href=\"https://colab.research.google.com/github/siddhantjain07/Tensorflow-Practice/blob/master/Linear_Regression.ipynb\" target=\"_parent\"><img src=\"https://colab.research.google.com/assets/colab-badge.svg\" alt=\"Open In Colab\"/></a>"
      ]
    },
    {
      "cell_type": "markdown",
      "metadata": {
        "id": "jNd9bbP-JAst",
        "colab_type": "text"
      },
      "source": [
        "##Low level implemetation of Linear Regression using TF v2\n",
        "\n",
        "Author : Siddhant Jain\n",
        "\n",
        "Project : https://github.com/siddhantjain07/Tensorflow-Practice"
      ]
    },
    {
      "cell_type": "code",
      "metadata": {
        "id": "zeY1i4lpIfrX",
        "colab_type": "code",
        "colab": {}
      },
      "source": [
        "from __future__ import absolute_import, print_function, division\n",
        "import tensorflow as tf\n",
        "import numpy as np"
      ],
      "execution_count": 0,
      "outputs": []
    },
    {
      "cell_type": "code",
      "metadata": {
        "id": "0gIV1jK1JfAc",
        "colab_type": "code",
        "colab": {}
      },
      "source": [
        "random = np.random"
      ],
      "execution_count": 0,
      "outputs": []
    },
    {
      "cell_type": "code",
      "metadata": {
        "id": "YrKTvjf8JmZY",
        "colab_type": "code",
        "colab": {}
      },
      "source": [
        "#Parameters \n",
        "learning_rate = 0.001\n",
        "iterations = 10000\n",
        "display_steps = 50"
      ],
      "execution_count": 0,
      "outputs": []
    },
    {
      "cell_type": "code",
      "metadata": {
        "id": "jQf8oTYpKPBx",
        "colab_type": "code",
        "colab": {}
      },
      "source": [
        "'''\n",
        "#Creating training data for our regression model\n",
        "x_train = np.arange(100)*random.randn(100)\n",
        "y_train = random.random(100)*2\n",
        "\n",
        "#Converting data into numpy array then to row vector\n",
        "x_train = np.asarray([x_train]).reshape((100,1))\n",
        "y_train = np.asarray([y_train]).reshape((100,1))\n",
        "\n",
        "'''"
      ],
      "execution_count": 0,
      "outputs": []
    },
    {
      "cell_type": "code",
      "metadata": {
        "id": "zyUCo3E1aGss",
        "colab_type": "code",
        "colab": {}
      },
      "source": [
        "# Training Data.\n",
        "x_train = np.array([3.3,4.4,5.5,6.71,6.93,4.168,9.779,6.182,7.59,2.167,\n",
        "              7.042,10.791,5.313,7.997,5.654,9.27,3.1])\n",
        "y_train = np.array([1.7,2.76,2.09,3.19,1.694,1.573,3.366,2.596,2.53,1.221,\n",
        "              2.827,3.465,1.65,2.904,2.42,2.94,1.3])"
      ],
      "execution_count": 0,
      "outputs": []
    },
    {
      "cell_type": "code",
      "metadata": {
        "id": "-mRX-GABNB_h",
        "colab_type": "code",
        "colab": {
          "base_uri": "https://localhost:8080/",
          "height": 34
        },
        "outputId": "52faa0ff-f155-4219-844d-aefa7daed2f7"
      },
      "source": [
        "y_train.shape"
      ],
      "execution_count": 184,
      "outputs": [
        {
          "output_type": "execute_result",
          "data": {
            "text/plain": [
              "(17,)"
            ]
          },
          "metadata": {
            "tags": []
          },
          "execution_count": 184
        }
      ]
    },
    {
      "cell_type": "code",
      "metadata": {
        "id": "nHjc-StnKbVF",
        "colab_type": "code",
        "colab": {}
      },
      "source": [
        "from matplotlib import pyplot as plt\n",
        "%matplotlib inline"
      ],
      "execution_count": 0,
      "outputs": []
    },
    {
      "cell_type": "code",
      "metadata": {
        "id": "Xcx3SWSpK36A",
        "colab_type": "code",
        "colab": {
          "base_uri": "https://localhost:8080/",
          "height": 265
        },
        "outputId": "5179bd36-2633-42cf-bccd-27a2c424db93"
      },
      "source": [
        "#Visualizing our data\n",
        "plt.plot(x_train,y_train,\"*\")\n",
        "plt.show()"
      ],
      "execution_count": 186,
      "outputs": [
        {
          "output_type": "display_data",
          "data": {
            "image/png": "[encoded data removed]",
            "text/plain": [
              "<Figure size 432x288 with 1 Axes>"
            ]
          },
          "metadata": {
            "tags": [],
            "needs_background": "light"
          }
        }
      ]
    },
    {
      "cell_type": "code",
      "metadata": {
        "id": "AW6gzem1K_wk",
        "colab_type": "code",
        "colab": {}
      },
      "source": [
        "#Weights and biases, random initialization\n",
        "weight = tf.Variable(random.randn(),name=\"weight\")\n",
        "bias = tf.Variable(random.randn() ,name=\"bias\")"
      ],
      "execution_count": 0,
      "outputs": []
    },
    {
      "cell_type": "code",
      "metadata": {
        "id": "1BCY-O2eOGKf",
        "colab_type": "code",
        "colab": {}
      },
      "source": [
        "#Linear Regression\n",
        "def Linear_Regression(X):\n",
        "  Yhat = tf.add(tf.multiply(weight,X),bias)\n",
        "  return Yhat\n",
        "\n",
        "# Mean square error.\n",
        "def mean_square(y_pred, y_true):\n",
        "    return tf.reduce_mean(tf.square(y_pred - y_true))"
      ],
      "execution_count": 0,
      "outputs": []
    },
    {
      "cell_type": "code",
      "metadata": {
        "id": "dkL1XBczPYuA",
        "colab_type": "code",
        "colab": {}
      },
      "source": [
        "#Stocastic Gradient Descent\n",
        "optimizer = tf.optimizers.SGD(learning_rate)"
      ],
      "execution_count": 0,
      "outputs": []
    },
    {
      "cell_type": "code",
      "metadata": {
        "id": "J0W-qiChPkxJ",
        "colab_type": "code",
        "colab": {}
      },
      "source": [
        "def run_optimization():\n",
        "  #Wrap the computation with tf.GradientTape() for calculation of derivative\n",
        "  with tf.GradientTape() as g:\n",
        "    Yhat = Linear_Regression(x_train)\n",
        "    error = mean_square(Yhat, y_train)\n",
        "  #Compute gradients\n",
        "  \n",
        "  gradients = g.gradient(error, [weight, bias])\n",
        "  \n",
        "  \"\"\"\"\n",
        "  Update weight and bias\n",
        "  Formula background\n",
        "  w[t] = w[t] - learning_rate*dw[t]\n",
        "  b[t] = b[t] - learning_rate*db[t]\n",
        "  Here [t] is iteration t\n",
        "  \"\"\"\"\"  \n",
        "  optimizer.apply_gradients(zip(gradients,[weight,bias]))"
      ],
      "execution_count": 0,
      "outputs": []
    },
    {
      "cell_type": "code",
      "metadata": {
        "id": "18LRTE8ERmZv",
        "colab_type": "code",
        "colab": {
          "base_uri": "https://localhost:8080/",
          "height": 1000
        },
        "outputId": "f5fa658a-7d36-4baf-aef7-9b08e6e01320"
      },
      "source": [
        "#Run optimization\n",
        "for iter in range(1,iterations+1):\n",
        "  #Run optimization and update weight and bias\n",
        "  run_optimization()\n",
        "\n",
        "  if iter%display_steps ==0:\n",
        "    pred = Linear_Regression(x_train)\n",
        "    loss = mean_square(pred,y_train)\n",
        "    print(\"Iteration:{} Loss:{} weight:{} bias:{}\".format(iter,loss,weight.numpy(),bias.numpy()))"
      ],
      "execution_count": 191,
      "outputs": [
        {
          "output_type": "stream",
          "text": [
            "Iteration:50 Loss:0.15892809629440308 weight:0.2807151675224304 bias:0.5968103408813477\n",
            "Iteration:100 Loss:0.15879148244857788 weight:0.2797989249229431 bias:0.5991677641868591\n",
            "Iteration:150 Loss:0.15867315232753754 weight:0.27945414185523987 bias:0.6015759706497192\n",
            "Iteration:200 Loss:0.15855766832828522 weight:0.27911847829818726 bias:0.6039558053016663\n",
            "Iteration:250 Loss:0.1584448665380478 weight:0.278786838054657 bias:0.6063068509101868\n",
            "Iteration:300 Loss:0.1583348512649536 weight:0.2784591615200043 bias:0.6086295247077942\n",
            "Iteration:350 Loss:0.15822748839855194 weight:0.2781355679035187 bias:0.6109241843223572\n",
            "Iteration:400 Loss:0.15812267363071442 weight:0.2778157889842987 bias:0.6131911277770996\n",
            "Iteration:450 Loss:0.15802036225795746 weight:0.27749988436698914 bias:0.6154306530952454\n",
            "Iteration:500 Loss:0.1579204946756363 weight:0.2771878242492676 bias:0.6176432371139526\n",
            "Iteration:550 Loss:0.15782305598258972 weight:0.2768794596195221 bias:0.6198291182518005\n",
            "Iteration:600 Loss:0.1577279269695282 weight:0.27657487988471985 bias:0.6219886541366577\n",
            "Iteration:650 Loss:0.15763510763645172 weight:0.2762739360332489 bias:0.624122142791748\n",
            "Iteration:700 Loss:0.15754447877407074 weight:0.27597662806510925 bias:0.6262298226356506\n",
            "Iteration:750 Loss:0.15745605528354645 weight:0.2756829559803009 bias:0.6283121109008789\n",
            "Iteration:800 Loss:0.15736974775791168 weight:0.27539271116256714 bias:0.6303693652153015\n",
            "Iteration:850 Loss:0.15728552639484406 weight:0.2751060724258423 bias:0.6324018239974976\n",
            "Iteration:900 Loss:0.15720327198505402 weight:0.2748228907585144 bias:0.6344096660614014\n",
            "Iteration:950 Loss:0.15712298452854156 weight:0.27454304695129395 bias:0.6363932490348816\n",
            "Iteration:1000 Loss:0.1570446938276291 weight:0.27426663041114807 bias:0.6383529305458069\n",
            "Iteration:1050 Loss:0.15696823596954346 weight:0.273993581533432 bias:0.6402888894081116\n",
            "Iteration:1100 Loss:0.15689362585544586 weight:0.2737238109111786 bias:0.6422015428543091\n",
            "Iteration:1150 Loss:0.15682081878185272 weight:0.27345728874206543 bias:0.644091010093689\n",
            "Iteration:1200 Loss:0.15674975514411926 weight:0.27319392561912537 bias:0.6459578275680542\n",
            "Iteration:1250 Loss:0.15668034553527832 weight:0.2729337513446808 bias:0.6478019952774048\n",
            "Iteration:1300 Loss:0.15661266446113586 weight:0.2726767957210541 bias:0.6496239900588989\n",
            "Iteration:1350 Loss:0.15654656291007996 weight:0.2724229395389557 bias:0.651423990726471\n",
            "Iteration:1400 Loss:0.15648210048675537 weight:0.27217212319374084 bias:0.6532021760940552\n",
            "Iteration:1450 Loss:0.15641912817955017 weight:0.27192431688308716 bias:0.6549590229988098\n",
            "Iteration:1500 Loss:0.15635770559310913 weight:0.27167949080467224 bias:0.6566945910453796\n",
            "Iteration:1550 Loss:0.1562977433204651 weight:0.2714376449584961 bias:0.6584092974662781\n",
            "Iteration:1600 Loss:0.15623915195465088 weight:0.27119866013526917 bias:0.6601033210754395\n",
            "Iteration:1650 Loss:0.15618206560611725 weight:0.27096259593963623 bias:0.6617768406867981\n",
            "Iteration:1700 Loss:0.15612633526325226 weight:0.2707293927669525 bias:0.6634302139282227\n",
            "Iteration:1750 Loss:0.15607191622257233 weight:0.27049902081489563 bias:0.6650635600090027\n",
            "Iteration:1800 Loss:0.15601880848407745 weight:0.2702714502811432 bias:0.6666772961616516\n",
            "Iteration:1850 Loss:0.15596695244312286 weight:0.270046591758728 bias:0.668271541595459\n",
            "Iteration:1900 Loss:0.15591633319854736 weight:0.26982441544532776 bias:0.6698465347290039\n",
            "Iteration:1950 Loss:0.15586698055267334 weight:0.26960489153862 bias:0.6714025735855103\n",
            "Iteration:2000 Loss:0.15581876039505005 weight:0.2693880796432495 bias:0.672939658164978\n",
            "Iteration:2050 Loss:0.15577176213264465 weight:0.26917392015457153 bias:0.6744583249092102\n",
            "Iteration:2100 Loss:0.15572582185268402 weight:0.2689622938632965 bias:0.6759586334228516\n",
            "Iteration:2150 Loss:0.15568101406097412 weight:0.26875314116477966 bias:0.677440881729126\n",
            "Iteration:2200 Loss:0.15563732385635376 weight:0.2685466408729553 bias:0.678905189037323\n",
            "Iteration:2250 Loss:0.155594602227211 weight:0.26834261417388916 bias:0.6803519129753113\n",
            "Iteration:2300 Loss:0.1555529534816742 weight:0.2681409418582916 bias:0.6817811131477356\n",
            "Iteration:2350 Loss:0.1555122435092926 weight:0.2679418623447418 bias:0.683193027973175\n",
            "Iteration:2400 Loss:0.15547259151935577 weight:0.26774507761001587 bias:0.6845880150794983\n",
            "Iteration:2450 Loss:0.15543386340141296 weight:0.26755067706108093 bias:0.6859660744667053\n",
            "Iteration:2500 Loss:0.15539605915546417 weight:0.2673586905002594 bias:0.68732750415802\n",
            "Iteration:2550 Loss:0.155359148979187 weight:0.26716887950897217 bias:0.6886725425720215\n",
            "Iteration:2600 Loss:0.1553231179714203 weight:0.2669815421104431 bias:0.6900013089179993\n",
            "Iteration:2650 Loss:0.1552879810333252 weight:0.2667962908744812 bias:0.6913141012191772\n",
            "Iteration:2700 Loss:0.15525366365909576 weight:0.2666134536266327 bias:0.692611038684845\n",
            "Iteration:2750 Loss:0.1552201807498932 weight:0.26643261313438416 bias:0.6938923001289368\n",
            "Iteration:2800 Loss:0.15518750250339508 weight:0.26625415682792664 bias:0.6951581239700317\n",
            "Iteration:2850 Loss:0.15515559911727905 weight:0.2660777270793915 bias:0.6964086294174194\n",
            "Iteration:2900 Loss:0.1551245152950287 weight:0.2659034729003906 bias:0.6976441144943237\n",
            "Iteration:2950 Loss:0.15509410202503204 weight:0.2657313346862793 bias:0.6988646984100342\n",
            "Iteration:3000 Loss:0.1550644040107727 weight:0.26556116342544556 bias:0.7000705599784851\n",
            "Iteration:3050 Loss:0.15503549575805664 weight:0.2653932273387909 bias:0.7012618780136108\n",
            "Iteration:3100 Loss:0.1550072431564331 weight:0.26522716879844666 bias:0.7024388313293457\n",
            "Iteration:3150 Loss:0.1549796611070633 weight:0.2650631368160248 bias:0.7036014795303345\n",
            "Iteration:3200 Loss:0.1549527794122696 weight:0.26490119099617004 bias:0.704750120639801\n",
            "Iteration:3250 Loss:0.15492646396160126 weight:0.26474109292030334 bias:0.7058849930763245\n",
            "Iteration:3300 Loss:0.15490086376667023 weight:0.26458290219306946 bias:0.70700603723526\n",
            "Iteration:3350 Loss:0.15487581491470337 weight:0.26442673802375793 bias:0.7081137299537659\n",
            "Iteration:3400 Loss:0.15485139191150665 weight:0.26427242159843445 bias:0.7092079520225525\n",
            "Iteration:3450 Loss:0.1548275351524353 weight:0.26411986351013184 bias:0.7102890610694885\n",
            "Iteration:3500 Loss:0.1548042893409729 weight:0.26396918296813965 bias:0.7113569974899292\n",
            "Iteration:3550 Loss:0.15478162467479706 weight:0.2638204097747803 bias:0.7124120593070984\n",
            "Iteration:3600 Loss:0.15475942194461823 weight:0.26367342472076416 bias:0.7134544253349304\n",
            "Iteration:3650 Loss:0.15473781526088715 weight:0.26352816820144653 bias:0.7144842743873596\n",
            "Iteration:3700 Loss:0.15471671521663666 weight:0.2633846402168274 bias:0.7155015468597412\n",
            "Iteration:3750 Loss:0.15469610691070557 weight:0.26324278116226196 bias:0.7165066599845886\n",
            "Iteration:3800 Loss:0.15467596054077148 weight:0.26310276985168457 bias:0.7174996137619019\n",
            "Iteration:3850 Loss:0.15465635061264038 weight:0.2629644274711609 bias:0.7184805870056152\n",
            "Iteration:3900 Loss:0.1546371877193451 weight:0.2628277540206909 bias:0.7194496989250183\n",
            "Iteration:3950 Loss:0.15461848676204681 weight:0.26269274950027466 bias:0.7204071879386902\n",
            "Iteration:4000 Loss:0.15460023283958435 weight:0.26255929470062256 bias:0.7213531136512756\n",
            "Iteration:4050 Loss:0.1545824259519577 weight:0.2624274790287018 bias:0.7222875952720642\n",
            "Iteration:4100 Loss:0.15456505119800568 weight:0.26229724287986755 bias:0.7232108116149902\n",
            "Iteration:4150 Loss:0.15454809367656708 weight:0.2621685862541199 bias:0.7241228818893433\n",
            "Iteration:4200 Loss:0.15453152358531952 weight:0.26204150915145874 bias:0.7250239849090576\n",
            "Iteration:4250 Loss:0.15451538562774658 weight:0.261915922164917 bias:0.7259140610694885\n",
            "Iteration:4300 Loss:0.1544995903968811 weight:0.2617918848991394 bias:0.7267934679985046\n",
            "Iteration:4350 Loss:0.15448416769504547 weight:0.2616693377494812 bias:0.727662205696106\n",
            "Iteration:4400 Loss:0.15446917712688446 weight:0.2615482807159424 bias:0.7285205721855164\n",
            "Iteration:4450 Loss:0.15445449948310852 weight:0.26142868399620056 bias:0.7293685674667358\n",
            "Iteration:4500 Loss:0.15444017946720123 weight:0.26131051778793335 bias:0.7302063703536987\n",
            "Iteration:4550 Loss:0.1544262319803238 weight:0.26119378209114075 bias:0.731033980846405\n",
            "Iteration:4600 Loss:0.15441261231899261 weight:0.26107844710350037 bias:0.7318516969680786\n",
            "Iteration:4650 Loss:0.15439926087856293 weight:0.2609645128250122 bias:0.7326594591140747\n",
            "Iteration:4700 Loss:0.15438628196716309 weight:0.2608519494533539 bias:0.7334575057029724\n",
            "Iteration:4750 Loss:0.15437360107898712 weight:0.260740727186203 bias:0.7342458963394165\n",
            "Iteration:4800 Loss:0.15436121821403503 weight:0.2606308162212372 bias:0.7350248694419861\n",
            "Iteration:4850 Loss:0.1543491631746292 weight:0.2605222463607788 bias:0.7357943654060364\n",
            "Iteration:4900 Loss:0.15433736145496368 weight:0.2604149878025055 bias:0.7365545630455017\n",
            "Iteration:4950 Loss:0.15432582795619965 weight:0.2603090703487396 bias:0.7373056411743164\n",
            "Iteration:5000 Loss:0.15431460738182068 weight:0.2602044939994812 bias:0.7380475997924805\n",
            "Iteration:5050 Loss:0.1543036550283432 weight:0.2601011097431183 bias:0.7387806177139282\n",
            "Iteration:5100 Loss:0.15429294109344482 weight:0.25999894738197327 bias:0.739504873752594\n",
            "Iteration:5150 Loss:0.1542825549840927 weight:0.25989800691604614 bias:0.7402202486991882\n",
            "Iteration:5200 Loss:0.15427233278751373 weight:0.2597982585430145 bias:0.7409270405769348\n",
            "Iteration:5250 Loss:0.15426239371299744 weight:0.2596997916698456 bias:0.7416252493858337\n",
            "Iteration:5300 Loss:0.15425266325473785 weight:0.25960254669189453 bias:0.7423151135444641\n",
            "Iteration:5350 Loss:0.15424318611621857 weight:0.2595064043998718 bias:0.7429966330528259\n",
            "Iteration:5400 Loss:0.15423397719860077 weight:0.25941139459609985 bias:0.7436699867248535\n",
            "Iteration:5450 Loss:0.1542249470949173 weight:0.2593175172805786 bias:0.7443350553512573\n",
            "Iteration:5500 Loss:0.15421612560749054 weight:0.25922492146492004 bias:0.7449922561645508\n",
            "Iteration:5550 Loss:0.1542075276374817 weight:0.25913336873054504 bias:0.7456416487693787\n",
            "Iteration:5600 Loss:0.15419910848140717 weight:0.2590428292751312 bias:0.7462828755378723\n",
            "Iteration:5650 Loss:0.15419094264507294 weight:0.25895336270332336 bias:0.7469165921211243\n",
            "Iteration:5700 Loss:0.15418297052383423 weight:0.25886520743370056 bias:0.7475425601005554\n",
            "Iteration:5750 Loss:0.15417516231536865 weight:0.2587779462337494 bias:0.7481610774993896\n",
            "Iteration:5800 Loss:0.1541675329208374 weight:0.258691668510437 bias:0.7487720847129822\n",
            "Iteration:5850 Loss:0.15416012704372406 weight:0.25860658288002014 bias:0.7493757605552673\n",
            "Iteration:5900 Loss:0.15415285527706146 weight:0.25852254033088684 bias:0.7499720454216003\n",
            "Iteration:5950 Loss:0.154145747423172 weight:0.2584393322467804 bias:0.7505613565444946\n",
            "Iteration:6000 Loss:0.15413889288902283 weight:0.2583572566509247 bias:0.7511432766914368\n",
            "Iteration:6050 Loss:0.15413214266300201 weight:0.25827622413635254 bias:0.7517183423042297\n",
            "Iteration:6100 Loss:0.15412551164627075 weight:0.2581959664821625 bias:0.7522864937782288\n",
            "Iteration:6150 Loss:0.1541190892457962 weight:0.25811687111854553 bias:0.7528476119041443\n",
            "Iteration:6200 Loss:0.15411286056041718 weight:0.2580386996269226 bias:0.753402054309845\n",
            "Iteration:6250 Loss:0.15410670638084412 weight:0.25796133279800415 bias:0.7539498805999756\n",
            "Iteration:6300 Loss:0.15410074591636658 weight:0.2578851282596588 bias:0.7544910907745361\n",
            "Iteration:6350 Loss:0.15409491956233978 weight:0.2578096389770508 bias:0.7550256848335266\n",
            "Iteration:6400 Loss:0.15408919751644135 weight:0.25773510336875916 bias:0.7555537819862366\n",
            "Iteration:6450 Loss:0.15408369898796082 weight:0.2576616108417511 bias:0.7560756206512451\n",
            "Iteration:6500 Loss:0.15407826006412506 weight:0.25758877396583557 bias:0.7565911412239075\n",
            "Iteration:6550 Loss:0.15407295525074005 weight:0.2575170397758484 bias:0.7571004033088684\n",
            "Iteration:6600 Loss:0.1540677845478058 weight:0.2574460208415985 bias:0.7576035261154175\n",
            "Iteration:6650 Loss:0.15406273305416107 weight:0.25737592577934265 bias:0.7581005692481995\n",
            "Iteration:6700 Loss:0.15405786037445068 weight:0.25730669498443604 bias:0.7585916519165039\n",
            "Iteration:6750 Loss:0.15405306220054626 weight:0.25723811984062195 bias:0.7590767741203308\n",
            "Iteration:6800 Loss:0.154048353433609 weight:0.257170706987381 bias:0.7595560550689697\n",
            "Iteration:6850 Loss:0.1540437638759613 weight:0.2571037709712982 bias:0.7600294947624207\n",
            "Iteration:6900 Loss:0.15403933823108673 weight:0.2570379078388214 bias:0.7604972720146179\n",
            "Iteration:6950 Loss:0.15403495728969574 weight:0.25697261095046997 bias:0.7609594464302063\n",
            "Iteration:7000 Loss:0.1540306806564331 weight:0.2569083273410797 bias:0.7614160180091858\n",
            "Iteration:7050 Loss:0.15402653813362122 weight:0.25684458017349243 bias:0.7618672251701355\n",
            "Iteration:7100 Loss:0.1540224701166153 weight:0.25678184628486633 bias:0.7623128294944763\n",
            "Iteration:7150 Loss:0.1540185511112213 weight:0.2567196488380432 bias:0.7627530097961426\n",
            "Iteration:7200 Loss:0.1540146768093109 weight:0.2566584050655365 bias:0.7631878852844238\n",
            "Iteration:7250 Loss:0.15401092171669006 weight:0.2565976679325104 bias:0.7636176943778992\n",
            "Iteration:7300 Loss:0.15400727093219757 weight:0.25653791427612305 bias:0.7640422582626343\n",
            "Iteration:7350 Loss:0.15400366485118866 weight:0.2564786672592163 bias:0.7644615173339844\n",
            "Iteration:7400 Loss:0.1540001630783081 weight:0.2564203143119812 bias:0.7648758292198181\n",
            "Iteration:7450 Loss:0.15399675071239471 weight:0.2563624382019043 bias:0.765285313129425\n",
            "Iteration:7500 Loss:0.1539934128522873 weight:0.2563055455684662 bias:0.765689492225647\n",
            "Iteration:7550 Loss:0.15399014949798584 weight:0.2562490403652191 bias:0.7660890817642212\n",
            "Iteration:7600 Loss:0.15398696064949036 weight:0.25619351863861084 bias:0.7664838433265686\n",
            "Iteration:7650 Loss:0.15398389101028442 weight:0.2561383545398712 bias:0.7668735980987549\n",
            "Iteration:7700 Loss:0.15398085117340088 weight:0.2560841143131256 bias:0.7672590613365173\n",
            "Iteration:7750 Loss:0.15397793054580688 weight:0.25603047013282776 bias:0.7676393985748291\n",
            "Iteration:7800 Loss:0.1539750099182129 weight:0.2559773623943329 bias:0.7680155634880066\n",
            "Iteration:7850 Loss:0.15397220849990845 weight:0.2559250593185425 bias:0.7683868408203125\n",
            "Iteration:7900 Loss:0.15396945178508759 weight:0.2558731734752655 bias:0.7687538862228394\n",
            "Iteration:7950 Loss:0.15396679937839508 weight:0.25582218170166016 bias:0.7691162824630737\n",
            "Iteration:8000 Loss:0.15396416187286377 weight:0.2557715177536011 bias:0.7694746255874634\n",
            "Iteration:8050 Loss:0.15396159887313843 weight:0.25572171807289124 bias:0.7698282599449158\n",
            "Iteration:8100 Loss:0.15395911037921906 weight:0.255672425031662 bias:0.770177960395813\n",
            "Iteration:8150 Loss:0.15395666658878326 weight:0.25562363862991333 bias:0.770523190498352\n",
            "Iteration:8200 Loss:0.15395428240299225 weight:0.25557562708854675 bias:0.7708643674850464\n",
            "Iteration:8250 Loss:0.153951957821846 weight:0.25552791357040405 bias:0.7712015509605408\n",
            "Iteration:8300 Loss:0.15394972264766693 weight:0.2554810345172882 bias:0.7715343832969666\n",
            "Iteration:8350 Loss:0.15394751727581024 weight:0.25543472170829773 bias:0.7718634009361267\n",
            "Iteration:8400 Loss:0.15394534170627594 weight:0.25538870692253113 bias:0.7721885442733765\n",
            "Iteration:8450 Loss:0.1539432406425476 weight:0.2553435266017914 bias:0.7725094556808472\n",
            "Iteration:8500 Loss:0.15394119918346405 weight:0.25529876351356506 bias:0.7728266716003418\n",
            "Iteration:8550 Loss:0.1539391577243805 weight:0.25525447726249695 bias:0.7731403112411499\n",
            "Iteration:8600 Loss:0.15393725037574768 weight:0.2552109360694885 bias:0.773449718952179\n",
            "Iteration:8650 Loss:0.15393531322479248 weight:0.25516772270202637 bias:0.7737554311752319\n",
            "Iteration:8700 Loss:0.15393349528312683 weight:0.25512510538101196 bias:0.7740576863288879\n",
            "Iteration:8750 Loss:0.1539316177368164 weight:0.2550830543041229 bias:0.7743564248085022\n",
            "Iteration:8800 Loss:0.15392985939979553 weight:0.25504133105278015 bias:0.7746512293815613\n",
            "Iteration:8850 Loss:0.15392816066741943 weight:0.2550002932548523 bias:0.7749425172805786\n",
            "Iteration:8900 Loss:0.15392647683620453 weight:0.2549597918987274 bias:0.7752302885055542\n",
            "Iteration:8950 Loss:0.153924822807312 weight:0.25491955876350403 bias:0.7755146622657776\n",
            "Iteration:9000 Loss:0.1539231836795807 weight:0.2548799514770508 bias:0.7757957577705383\n",
            "Iteration:9050 Loss:0.15392160415649414 weight:0.2548408806324005 bias:0.7760734558105469\n",
            "Iteration:9100 Loss:0.15392008423805237 weight:0.2548021078109741 bias:0.7763476967811584\n",
            "Iteration:9150 Loss:0.1539185792207718 weight:0.2547638714313507 bias:0.7766185402870178\n",
            "Iteration:9200 Loss:0.153917133808136 weight:0.25472623109817505 bias:0.7768861055374146\n",
            "Iteration:9250 Loss:0.15391571819782257 weight:0.25468891859054565 bias:0.7771503925323486\n",
            "Iteration:9300 Loss:0.15391433238983154 weight:0.2546519637107849 bias:0.7774116396903992\n",
            "Iteration:9350 Loss:0.1539129614830017 weight:0.2546156644821167 bias:0.7776697278022766\n",
            "Iteration:9400 Loss:0.15391163527965546 weight:0.25457972288131714 bias:0.7779245972633362\n",
            "Iteration:9450 Loss:0.15391035377979279 weight:0.25454404950141907 bias:0.7781764268875122\n",
            "Iteration:9500 Loss:0.1539090871810913 weight:0.2545090615749359 bias:0.7784252762794495\n",
            "Iteration:9550 Loss:0.15390785038471222 weight:0.2544744610786438 bias:0.7786710858345032\n",
            "Iteration:9600 Loss:0.15390661358833313 weight:0.2544401288032532 bias:0.7789139151573181\n",
            "Iteration:9650 Loss:0.1539054811000824 weight:0.254406213760376 bias:0.7791538834571838\n",
            "Iteration:9700 Loss:0.15390433371067047 weight:0.25437286496162415 bias:0.7793909311294556\n",
            "Iteration:9750 Loss:0.15390321612358093 weight:0.25433987379074097 bias:0.7796250581741333\n",
            "Iteration:9800 Loss:0.1539021134376526 weight:0.2543070912361145 bias:0.7798563838005066\n",
            "Iteration:9850 Loss:0.15390104055404663 weight:0.2542749047279358 bias:0.780085027217865\n",
            "Iteration:9900 Loss:0.15389999747276306 weight:0.2542431354522705 bias:0.780310869216919\n",
            "Iteration:9950 Loss:0.15389896929264069 weight:0.2542116940021515 bias:0.7805339694023132\n",
            "Iteration:10000 Loss:0.15389801561832428 weight:0.2541804015636444 bias:0.7807545065879822\n"
          ],
          "name": "stdout"
        }
      ]
    },
    {
      "cell_type": "code",
      "metadata": {
        "id": "aKa2u9vrW4rH",
        "colab_type": "code",
        "colab": {
          "base_uri": "https://localhost:8080/",
          "height": 265
        },
        "outputId": "eec0e797-37ca-4083-d668-5c6cba630211"
      },
      "source": [
        "#PLoting our learnt weights and bias\n",
        "plt.plot(x_train,y_train,\"ro\",label=\"Original Data\")\n",
        "plt.plot(x_train,np.array(x_train*weight+bias),\"-\",label=\"Fitted Data\")\n",
        "plt.legend()\n",
        "plt.show()"
      ],
      "execution_count": 192,
      "outputs": [
        {
          "output_type": "display_data",
          "data": {
            "image/png": "[encoded data removed]",
            "text/plain": [
              "<Figure size 432x288 with 1 Axes>"
            ]
          },
          "metadata": {
            "tags": [],
            "needs_background": "light"
          }
        }
      ]
    },
    {
      "cell_type": "code",
      "metadata": {
        "id": "Hw7t-zI4aAAt",
        "colab_type": "code",
        "colab": {}
      },
      "source": [
        ""
      ],
      "execution_count": 0,
      "outputs": []
    }
  ]
}