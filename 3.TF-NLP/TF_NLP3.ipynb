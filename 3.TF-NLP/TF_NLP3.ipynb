{
  "nbformat": 4,
  "nbformat_minor": 0,
  "metadata": {
    "colab": {
      "name": "TF-NLP3.ipynb",
      "provenance": [],
      "authorship_tag": "ABX9TyNL5fUbz7/IISlS2w57M+Wh",
      "include_colab_link": true
    },
    "kernelspec": {
      "name": "python3",
      "display_name": "Python 3"
    },
    "accelerator": "GPU"
  },
  "cells": [
    {
      "cell_type": "markdown",
      "metadata": {
        "id": "view-in-github",
        "colab_type": "text"
      },
      "source": [
        "<a href=\"https://colab.research.google.com/github/siddhantjain07/Tensorflow-in-Practice/blob/master/3.TF-NLP/TF_NLP3.ipynb\" target=\"_parent\"><img src=\"https://colab.research.google.com/assets/colab-badge.svg\" alt=\"Open In Colab\"/></a>"
      ]
    },
    {
      "cell_type": "markdown",
      "metadata": {
        "id": "2EefrERD9V3i",
        "colab_type": "text"
      },
      "source": [
        "##Setup"
      ]
    },
    {
      "cell_type": "code",
      "metadata": {
        "id": "AUzjhjZYnrlW",
        "colab_type": "code",
        "colab": {}
      },
      "source": [
        "import tensorflow as tf\n",
        "import json\n",
        "\n",
        "from tensorflow.keras.preprocessing.text import Tokenizer\n",
        "from tensorflow.keras.preprocessing.sequence import pad_sequences"
      ],
      "execution_count": 3,
      "outputs": []
    },
    {
      "cell_type": "markdown",
      "metadata": {
        "id": "iww9aHqB9YNO",
        "colab_type": "text"
      },
      "source": [
        "##Dataset"
      ]
    },
    {
      "cell_type": "code",
      "metadata": {
        "id": "dK-LYAS69dgV",
        "colab_type": "code",
        "colab": {}
      },
      "source": [
        "#Setting up HyperParameters\n",
        "vocab_size = 10000\n",
        "embedding_dim = 16\n",
        "max_length = 100\n",
        "trunc_type = 'post'\n",
        "padding_type = 'post'\n",
        "oov_tok = '<OOV>'\n",
        "training_size = 20000"
      ],
      "execution_count": 20,
      "outputs": []
    },
    {
      "cell_type": "code",
      "metadata": {
        "id": "oPXzFv5y8-1n",
        "colab_type": "code",
        "colab": {
          "base_uri": "https://localhost:8080/",
          "height": 223
        },
        "outputId": "6b9736c0-40a3-44c7-a7bf-54d2e9b1e53c"
      },
      "source": [
        "#Working on sarcasm dataset\n",
        "!wget --no-check-certificate \\\n",
        "    https://storage.googleapis.com/laurencemoroney-blog.appspot.com/sarcasm.json \\\n",
        "    -O /tmp/sarcasm.json"
      ],
      "execution_count": 5,
      "outputs": [
        {
          "output_type": "stream",
          "text": [
            "--2020-09-24 11:54:47--  https://storage.googleapis.com/laurencemoroney-blog.appspot.com/sarcasm.json\n",
            "Resolving storage.googleapis.com (storage.googleapis.com)... 64.233.189.128, 108.177.97.128, 108.177.125.128, ...\n",
            "Connecting to storage.googleapis.com (storage.googleapis.com)|64.233.189.128|:443... connected.\n",
            "HTTP request sent, awaiting response... 200 OK\n",
            "Length: 5643545 (5.4M) [application/json]\n",
            "Saving to: ‘/tmp/sarcasm.json’\n",
            "\n",
            "/tmp/sarcasm.json   100%[===================>]   5.38M  4.62MB/s    in 1.2s    \n",
            "\n",
            "2020-09-24 11:54:49 (4.62 MB/s) - ‘/tmp/sarcasm.json’ saved [5643545/5643545]\n",
            "\n"
          ],
          "name": "stdout"
        }
      ]
    },
    {
      "cell_type": "code",
      "metadata": {
        "id": "Usd1ajRS90BZ",
        "colab_type": "code",
        "colab": {}
      },
      "source": [
        "with open('/tmp/sarcasm.json', 'r') as f:\n",
        "  datastore = json.load(f)\n",
        "\n",
        "sentences = []\n",
        "labels = []\n",
        "\n",
        "for item in datastore:\n",
        "  sentences.append(item['headline'])\n",
        "  labels.append(item['is_sarcastic'])"
      ],
      "execution_count": 6,
      "outputs": []
    },
    {
      "cell_type": "code",
      "metadata": {
        "id": "9CxUeVsr-ZGI",
        "colab_type": "code",
        "colab": {}
      },
      "source": [
        "training_sentences = sentences[0:training_size]\n",
        "testing_sentences = sentences[training_size:]\n",
        "\n",
        "training_labels = labels[0:training_size]\n",
        "testing_labels = labels[training_size:]"
      ],
      "execution_count": 21,
      "outputs": []
    },
    {
      "cell_type": "code",
      "metadata": {
        "id": "MIPZ1gDK-uSv",
        "colab_type": "code",
        "colab": {}
      },
      "source": [
        "tokenizer = Tokenizer(num_words=vocab_size, oov_token=oov_tok)\n",
        "tokenizer.fit_on_texts(training_sentences)\n",
        "\n",
        "word_index = tokenizer.word_index\n",
        "\n",
        "training_sequences = tokenizer.texts_to_sequences(training_sentences)\n",
        "training_padded = pad_sequences(training_sequences, maxlen=max_length, padding=padding_type, truncating=trunc_type)\n",
        "\n",
        "testing_sequences = tokenizer.texts_to_sequences(testing_sentences)\n",
        "testing_padded = pad_sequences(testing_sequences, maxlen=max_length, padding=padding_type, truncating=trunc_type)"
      ],
      "execution_count": 22,
      "outputs": []
    },
    {
      "cell_type": "code",
      "metadata": {
        "id": "uMIkUVra_aW9",
        "colab_type": "code",
        "colab": {}
      },
      "source": [
        "import numpy as np\n",
        "training_padded = np.array(training_padded)\n",
        "training_labels = np.array(training_labels)\n",
        "testing_padded = np.array(testing_padded)\n",
        "testing_labels = np.array(testing_labels)"
      ],
      "execution_count": 23,
      "outputs": []
    },
    {
      "cell_type": "code",
      "metadata": {
        "id": "9Fu4cuvb_lvX",
        "colab_type": "code",
        "colab": {}
      },
      "source": [
        "model = tf.keras.Sequential([\n",
        "    tf.keras.layers.Embedding(vocab_size, embedding_dim, input_length=max_length),\n",
        "    tf.keras.layers.GlobalAveragePooling1D(),\n",
        "    tf.keras.layers.Dense(24, activation='relu'),\n",
        "    tf.keras.layers.Dense(1, activation='sigmoid')\n",
        "])\n",
        "model.compile(loss='binary_crossentropy',optimizer='adam',metrics=['accuracy'])"
      ],
      "execution_count": 24,
      "outputs": []
    },
    {
      "cell_type": "code",
      "metadata": {
        "id": "XCeViAsd_q6i",
        "colab_type": "code",
        "colab": {
          "base_uri": "https://localhost:8080/",
          "height": 316
        },
        "outputId": "af7ec2f5-a432-405f-9d56-d291950bc4c9"
      },
      "source": [
        "model.summary()"
      ],
      "execution_count": 25,
      "outputs": [
        {
          "output_type": "stream",
          "text": [
            "Model: \"sequential_2\"\n",
            "_________________________________________________________________\n",
            "Layer (type)                 Output Shape              Param #   \n",
            "=================================================================\n",
            "embedding_2 (Embedding)      (None, 100, 16)           160000    \n",
            "_________________________________________________________________\n",
            "global_average_pooling1d_2 ( (None, 16)                0         \n",
            "_________________________________________________________________\n",
            "dense_4 (Dense)              (None, 24)                408       \n",
            "_________________________________________________________________\n",
            "dense_5 (Dense)              (None, 1)                 25        \n",
            "=================================================================\n",
            "Total params: 160,433\n",
            "Trainable params: 160,433\n",
            "Non-trainable params: 0\n",
            "_________________________________________________________________\n"
          ],
          "name": "stdout"
        }
      ]
    },
    {
      "cell_type": "code",
      "metadata": {
        "id": "v2PQfd2x_vM1",
        "colab_type": "code",
        "colab": {
          "base_uri": "https://localhost:8080/",
          "height": 1000
        },
        "outputId": "a12db010-fb62-469a-cf3e-b2bf09bcff42"
      },
      "source": [
        "num_epochs = 30\n",
        "history = model.fit(training_padded, training_labels, epochs=num_epochs, validation_data=(testing_padded, testing_labels), verbose=2)"
      ],
      "execution_count": 26,
      "outputs": [
        {
          "output_type": "stream",
          "text": [
            "Epoch 1/30\n",
            "625/625 - 3s - loss: 0.6560 - accuracy: 0.5989 - val_loss: 0.5547 - val_accuracy: 0.7961\n",
            "Epoch 2/30\n",
            "625/625 - 3s - loss: 0.4184 - accuracy: 0.8345 - val_loss: 0.3823 - val_accuracy: 0.8413\n",
            "Epoch 3/30\n",
            "625/625 - 3s - loss: 0.3054 - accuracy: 0.8798 - val_loss: 0.3510 - val_accuracy: 0.8554\n",
            "Epoch 4/30\n",
            "625/625 - 3s - loss: 0.2555 - accuracy: 0.9000 - val_loss: 0.3441 - val_accuracy: 0.8539\n",
            "Epoch 5/30\n",
            "625/625 - 3s - loss: 0.2194 - accuracy: 0.9161 - val_loss: 0.3445 - val_accuracy: 0.8560\n",
            "Epoch 6/30\n",
            "625/625 - 3s - loss: 0.1927 - accuracy: 0.9280 - val_loss: 0.3521 - val_accuracy: 0.8541\n",
            "Epoch 7/30\n",
            "625/625 - 3s - loss: 0.1714 - accuracy: 0.9357 - val_loss: 0.3703 - val_accuracy: 0.8530\n",
            "Epoch 8/30\n",
            "625/625 - 3s - loss: 0.1528 - accuracy: 0.9448 - val_loss: 0.3805 - val_accuracy: 0.8544\n",
            "Epoch 9/30\n",
            "625/625 - 3s - loss: 0.1371 - accuracy: 0.9517 - val_loss: 0.4051 - val_accuracy: 0.8484\n",
            "Epoch 10/30\n",
            "625/625 - 3s - loss: 0.1227 - accuracy: 0.9577 - val_loss: 0.4212 - val_accuracy: 0.8484\n",
            "Epoch 11/30\n",
            "625/625 - 3s - loss: 0.1145 - accuracy: 0.9596 - val_loss: 0.4518 - val_accuracy: 0.8451\n",
            "Epoch 12/30\n",
            "625/625 - 3s - loss: 0.1044 - accuracy: 0.9643 - val_loss: 0.4887 - val_accuracy: 0.8374\n",
            "Epoch 13/30\n",
            "625/625 - 3s - loss: 0.0942 - accuracy: 0.9685 - val_loss: 0.4986 - val_accuracy: 0.8423\n",
            "Epoch 14/30\n",
            "625/625 - 3s - loss: 0.0871 - accuracy: 0.9718 - val_loss: 0.5307 - val_accuracy: 0.8395\n",
            "Epoch 15/30\n",
            "625/625 - 3s - loss: 0.0789 - accuracy: 0.9745 - val_loss: 0.5774 - val_accuracy: 0.8335\n",
            "Epoch 16/30\n",
            "625/625 - 3s - loss: 0.0734 - accuracy: 0.9766 - val_loss: 0.5994 - val_accuracy: 0.8340\n",
            "Epoch 17/30\n",
            "625/625 - 3s - loss: 0.0678 - accuracy: 0.9785 - val_loss: 0.6430 - val_accuracy: 0.8295\n",
            "Epoch 18/30\n",
            "625/625 - 3s - loss: 0.0616 - accuracy: 0.9805 - val_loss: 0.6566 - val_accuracy: 0.8295\n",
            "Epoch 19/30\n",
            "625/625 - 3s - loss: 0.0559 - accuracy: 0.9829 - val_loss: 0.6823 - val_accuracy: 0.8278\n",
            "Epoch 20/30\n",
            "625/625 - 3s - loss: 0.0521 - accuracy: 0.9849 - val_loss: 0.7422 - val_accuracy: 0.8274\n",
            "Epoch 21/30\n",
            "625/625 - 3s - loss: 0.0476 - accuracy: 0.9855 - val_loss: 0.7694 - val_accuracy: 0.8240\n",
            "Epoch 22/30\n",
            "625/625 - 3s - loss: 0.0452 - accuracy: 0.9858 - val_loss: 0.8230 - val_accuracy: 0.8202\n",
            "Epoch 23/30\n",
            "625/625 - 3s - loss: 0.0396 - accuracy: 0.9887 - val_loss: 0.8314 - val_accuracy: 0.8156\n",
            "Epoch 24/30\n",
            "625/625 - 3s - loss: 0.0384 - accuracy: 0.9887 - val_loss: 0.8684 - val_accuracy: 0.8202\n",
            "Epoch 25/30\n",
            "625/625 - 3s - loss: 0.0350 - accuracy: 0.9902 - val_loss: 0.9691 - val_accuracy: 0.8179\n",
            "Epoch 26/30\n",
            "625/625 - 3s - loss: 0.0307 - accuracy: 0.9919 - val_loss: 0.9335 - val_accuracy: 0.8146\n",
            "Epoch 27/30\n",
            "625/625 - 3s - loss: 0.0293 - accuracy: 0.9921 - val_loss: 1.0507 - val_accuracy: 0.8156\n",
            "Epoch 28/30\n",
            "625/625 - 3s - loss: 0.0279 - accuracy: 0.9920 - val_loss: 1.0240 - val_accuracy: 0.8150\n",
            "Epoch 29/30\n",
            "625/625 - 3s - loss: 0.0267 - accuracy: 0.9913 - val_loss: 1.0548 - val_accuracy: 0.8162\n",
            "Epoch 30/30\n",
            "625/625 - 3s - loss: 0.0240 - accuracy: 0.9933 - val_loss: 1.1309 - val_accuracy: 0.8135\n"
          ],
          "name": "stdout"
        }
      ]
    },
    {
      "cell_type": "code",
      "metadata": {
        "id": "Y_qDJWOcAA9x",
        "colab_type": "code",
        "colab": {
          "base_uri": "https://localhost:8080/",
          "height": 541
        },
        "outputId": "f0505eb7-0586-4b86-9e3d-8e6fe50e6a20"
      },
      "source": [
        "import matplotlib.pyplot as plt\n",
        "\n",
        "\n",
        "def plot_graphs(history, string):\n",
        "  plt.plot(history.history[string])\n",
        "  plt.plot(history.history['val_'+string])\n",
        "  plt.xlabel(\"Epochs\")\n",
        "  plt.ylabel(string)\n",
        "  plt.legend([string, 'val_'+string])\n",
        "  plt.show()\n",
        "  \n",
        "plot_graphs(history, \"accuracy\")\n",
        "plot_graphs(history, \"loss\")"
      ],
      "execution_count": 27,
      "outputs": [
        {
          "output_type": "display_data",
          "data": {
            "image/png": "[encoded data removed]",
            "text/plain": [
              "<Figure size 432x288 with 1 Axes>"
            ]
          },
          "metadata": {
            "tags": [],
            "needs_background": "light"
          }
        },
        {
          "output_type": "display_data",
          "data": {
            "image/png": "[encoded data removed]",
            "text/plain": [
              "<Figure size 432x288 with 1 Axes>"
            ]
          },
          "metadata": {
            "tags": [],
            "needs_background": "light"
          }
        }
      ]
    },
    {
      "cell_type": "code",
      "metadata": {
        "id": "Cu32hfjbA0hF",
        "colab_type": "code",
        "colab": {
          "base_uri": "https://localhost:8080/",
          "height": 93
        },
        "outputId": "ddcd87f7-eba2-47d9-de45-75793366b500"
      },
      "source": [
        "reverse_word_index = dict([(value, key) for (key, value) in word_index.items()])\n",
        "\n",
        "def decode_sentence(text):\n",
        "    return ' '.join([reverse_word_index.get(i, '?') for i in text])\n",
        "\n",
        "print(decode_sentence(training_padded[122]))\n",
        "print(training_sentences[122])\n",
        "print(labels[122])"
      ],
      "execution_count": 31,
      "outputs": [
        {
          "output_type": "stream",
          "text": [
            "man worried about drug dealer who's not picking up phone ? ? ? ? ? ? ? ? ? ? ? ? ? ? ? ? ? ? ? ? ? ? ? ? ? ? ? ? ? ? ? ? ? ? ? ? ? ? ? ? ? ? ? ? ? ? ? ? ? ? ? ? ? ? ? ? ? ? ? ? ? ? ? ? ? ? ? ? ? ? ? ? ? ? ? ? ? ? ? ? ? ? ? ? ? ? ? ? ? ?\n",
            "man worried about drug dealer who's not picking up phone\n",
            "1\n"
          ],
          "name": "stdout"
        }
      ]
    },
    {
      "cell_type": "code",
      "metadata": {
        "id": "D80PZp-FBefr",
        "colab_type": "code",
        "colab": {
          "base_uri": "https://localhost:8080/",
          "height": 36
        },
        "outputId": "b9b9cff0-41ce-4071-d80d-926dc831a6a5"
      },
      "source": [
        "e = model.layers[0]\n",
        "weights = e.get_weights()[0]\n",
        "print(weights.shape) # shape: (vocab_size, embedding_dim)\n"
      ],
      "execution_count": 32,
      "outputs": [
        {
          "output_type": "stream",
          "text": [
            "(10000, 16)\n"
          ],
          "name": "stdout"
        }
      ]
    },
    {
      "cell_type": "code",
      "metadata": {
        "id": "j7J7ehwdB10V",
        "colab_type": "code",
        "colab": {}
      },
      "source": [
        "import io\n",
        "\n",
        "out_v = io.open('vecs.tsv', 'w', encoding='utf-8')\n",
        "out_m = io.open('meta.tsv', 'w', encoding='utf-8')\n",
        "for word_num in range(1, vocab_size):\n",
        "  word = reverse_word_index[word_num]\n",
        "  embeddings = weights[word_num]\n",
        "  out_m.write(word + \"\\n\")\n",
        "  out_v.write('\\t'.join([str(x) for x in embeddings]) + \"\\n\")\n",
        "out_v.close()\n",
        "out_m.close()\n",
        "\n",
        "try:\n",
        "  from google.colab import files\n",
        "except ImportError:\n",
        "  pass\n",
        "else:\n",
        "  files.download('vecs.tsv')\n",
        "  files.download('meta.tsv')\n",
        "\n",
        "#Aftet downloading these files , go on to projector.tensorflow.org and visualize the embeddings (optional)"
      ],
      "execution_count": 33,
      "outputs": []
    },
    {
      "cell_type": "code",
      "metadata": {
        "id": "UYrjg4y_B31m",
        "colab_type": "code",
        "colab": {
          "base_uri": "https://localhost:8080/",
          "height": 54
        },
        "outputId": "d635731b-0e2f-4ea1-aa96-b0069b18589d"
      },
      "source": [
        "sentence = [\"seeing him study is overwhelming\", \"game of thrones season finale showing this sunday night\"]\n",
        "sequences = tokenizer.texts_to_sequences(sentence)\n",
        "padded = pad_sequences(sequences, maxlen=max_length, padding=padding_type, truncating=trunc_type)\n",
        "print(model.predict(padded))"
      ],
      "execution_count": 41,
      "outputs": [
        {
          "output_type": "stream",
          "text": [
            "[[9.9749529e-01]\n",
            " [1.3034953e-06]]\n"
          ],
          "name": "stdout"
        }
      ]
    },
    {
      "cell_type": "code",
      "metadata": {
        "id": "_NsGkvM-B60_",
        "colab_type": "code",
        "colab": {}
      },
      "source": [
        ""
      ],
      "execution_count": null,
      "outputs": []
    }
  ]
}