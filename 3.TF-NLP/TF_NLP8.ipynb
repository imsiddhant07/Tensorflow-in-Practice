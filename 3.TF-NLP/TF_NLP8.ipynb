{
  "nbformat": 4,
  "nbformat_minor": 0,
  "metadata": {
    "colab": {
      "name": "TF-NLP8.ipynb",
      "provenance": [],
      "collapsed_sections": [],
      "authorship_tag": "ABX9TyPtM6Saqtvx9Ug4uh3VU8sp",
      "include_colab_link": true
    },
    "kernelspec": {
      "name": "python3",
      "display_name": "Python 3"
    },
    "accelerator": "GPU"
  },
  "cells": [
    {
      "cell_type": "markdown",
      "metadata": {
        "id": "view-in-github",
        "colab_type": "text"
      },
      "source": [
        "<a href=\"https://colab.research.google.com/github/siddhantjain07/Tensorflow-in-Practice/blob/master/3.TF-NLP/TF_NLP8.ipynb\" target=\"_parent\"><img src=\"https://colab.research.google.com/assets/colab-badge.svg\" alt=\"Open In Colab\"/></a>"
      ]
    },
    {
      "cell_type": "code",
      "metadata": {
        "id": "D0IBVrkaUlb6",
        "colab_type": "code",
        "colab": {}
      },
      "source": [
        "import json\n",
        "import tensorflow as tf\n",
        "import csv\n",
        "import random\n",
        "import numpy as np\n",
        "\n",
        "from tensorflow.keras.preprocessing.text import Tokenizer\n",
        "from tensorflow.keras.preprocessing.sequence import pad_sequences\n",
        "from tensorflow.keras.utils import to_categorical\n",
        "from tensorflow.keras import regularizers"
      ],
      "execution_count": 12,
      "outputs": []
    },
    {
      "cell_type": "code",
      "metadata": {
        "id": "Rt_Ry2bsU6vl",
        "colab_type": "code",
        "colab": {}
      },
      "source": [
        "#HyperParamters\n",
        "embedding_dim = 100\n",
        "max_length = 16\n",
        "trunc_type='post'\n",
        "padding_type='post'\n",
        "oov_tok = \"<OOV>\"\n",
        "training_size=160000\n",
        "test_portion=.1\n",
        "\n",
        "corpus = []"
      ],
      "execution_count": 13,
      "outputs": []
    },
    {
      "cell_type": "code",
      "metadata": {
        "id": "K1IzDV-9VjwL",
        "colab_type": "code",
        "colab": {
          "base_uri": "https://localhost:8080/",
          "height": 223
        },
        "outputId": "62fb32b6-6f94-483c-d15e-33085ca0f07b"
      },
      "source": [
        "!wget --no-check-certificate \\\n",
        "    https://storage.googleapis.com/laurencemoroney-blog.appspot.com/training_cleaned.csv \\\n",
        "    -O /tmp/training_cleaned.csv\n",
        "\n",
        "num_sentences = 0\n",
        "\n",
        "with open(\"/tmp/training_cleaned.csv\") as csvfile:\n",
        "    reader = csv.reader(csvfile, delimiter=',')\n",
        "    for row in reader:\n",
        "        list_item=[]\n",
        "        list_item.append(row[5])\n",
        "        this_label=row[0]\n",
        "        if this_label=='0':\n",
        "            list_item.append(0)\n",
        "        else:\n",
        "            list_item.append(1)\n",
        "        num_sentences = num_sentences + 1\n",
        "        corpus.append(list_item)\n"
      ],
      "execution_count": 14,
      "outputs": [
        {
          "output_type": "stream",
          "text": [
            "--2020-09-25 09:58:35--  https://storage.googleapis.com/laurencemoroney-blog.appspot.com/training_cleaned.csv\n",
            "Resolving storage.googleapis.com (storage.googleapis.com)... 108.177.97.128, 108.177.125.128, 74.125.204.128, ...\n",
            "Connecting to storage.googleapis.com (storage.googleapis.com)|108.177.97.128|:443... connected.\n",
            "HTTP request sent, awaiting response... 200 OK\n",
            "Length: 238942690 (228M) [application/octet-stream]\n",
            "Saving to: ‘/tmp/training_cleaned.csv’\n",
            "\n",
            "/tmp/training_clean 100%[===================>] 227.87M  72.1MB/s    in 3.2s    \n",
            "\n",
            "2020-09-25 09:58:39 (72.1 MB/s) - ‘/tmp/training_cleaned.csv’ saved [238942690/238942690]\n",
            "\n"
          ],
          "name": "stdout"
        }
      ]
    },
    {
      "cell_type": "code",
      "metadata": {
        "id": "EmCQYswjVzyc",
        "colab_type": "code",
        "colab": {
          "base_uri": "https://localhost:8080/",
          "height": 73
        },
        "outputId": "56e5f626-5c4a-47e7-ea45-2e4acac1c6fe"
      },
      "source": [
        "print(num_sentences)\n",
        "print(len(corpus))\n",
        "print(corpus[1])"
      ],
      "execution_count": 15,
      "outputs": [
        {
          "output_type": "stream",
          "text": [
            "1600000\n",
            "1600000\n",
            "[\"is upset that he can't update his Facebook by texting it... and might cry as a result  School today also. Blah!\", 0]\n"
          ],
          "name": "stdout"
        }
      ]
    },
    {
      "cell_type": "code",
      "metadata": {
        "id": "HWvWYeYbV5qg",
        "colab_type": "code",
        "colab": {}
      },
      "source": [
        "sentences=[]\n",
        "labels=[]\n",
        "random.shuffle(corpus)\n",
        "for x in range(training_size):\n",
        "    sentences.append(corpus[x][0])\n",
        "    labels.append(corpus[x][1])\n",
        "\n",
        "\n",
        "tokenizer = Tokenizer()\n",
        "tokenizer.fit_on_texts(sentences)\n",
        "\n",
        "word_index = tokenizer.word_index\n",
        "vocab_size=len(word_index)\n",
        "\n",
        "sequences = tokenizer.texts_to_sequences(sentences)\n",
        "padded = pad_sequences(sequences, maxlen=max_length, padding=padding_type, truncating=trunc_type)\n",
        "\n",
        "split = int(test_portion * training_size)\n",
        "\n",
        "test_sequences = padded[0:split]\n",
        "training_sequences = padded[split:training_size]\n",
        "test_labels = labels[0:split]\n",
        "training_labels = labels[split:training_size]"
      ],
      "execution_count": 16,
      "outputs": []
    },
    {
      "cell_type": "code",
      "metadata": {
        "id": "G87bvKf_tqTA",
        "colab_type": "code",
        "colab": {
          "base_uri": "https://localhost:8080/",
          "height": 54
        },
        "outputId": "97235ebb-2df0-4efb-f706-5a86ab900e3c"
      },
      "source": [
        "print(len(training_labels))\n",
        "print(training_sequences.shape)"
      ],
      "execution_count": 23,
      "outputs": [
        {
          "output_type": "stream",
          "text": [
            "144000\n",
            "(144000, 16)\n"
          ],
          "name": "stdout"
        }
      ]
    },
    {
      "cell_type": "code",
      "metadata": {
        "id": "yNI_G8ZEW98z",
        "colab_type": "code",
        "colab": {
          "base_uri": "https://localhost:8080/",
          "height": 54
        },
        "outputId": "d323f2dc-156f-4ace-cb59-f6f9cf502551"
      },
      "source": [
        "print(vocab_size)\n",
        "print(word_index['i'])"
      ],
      "execution_count": 17,
      "outputs": [
        {
          "output_type": "stream",
          "text": [
            "138638\n",
            "1\n"
          ],
          "name": "stdout"
        }
      ]
    },
    {
      "cell_type": "code",
      "metadata": {
        "id": "XsdzXlr9XBry",
        "colab_type": "code",
        "colab": {
          "base_uri": "https://localhost:8080/",
          "height": 223
        },
        "outputId": "617da5ef-b243-48c5-9b05-b510aa87a01e"
      },
      "source": [
        "#using GloVe from Stanford\n",
        "!wget --no-check-certificate \\\n",
        "    https://storage.googleapis.com/laurencemoroney-blog.appspot.com/glove.6B.100d.txt \\\n",
        "    -O /tmp/glove.6B.100d.txt\n",
        "embeddings_index = {}\n",
        "with open('/tmp/glove.6B.100d.txt') as f:\n",
        "    for line in f:\n",
        "        values = line.split()\n",
        "        word = values[0]\n",
        "        coefs = np.asarray(values[1:], dtype='float32')\n",
        "        embeddings_index[word] = coefs\n",
        "\n",
        "embeddings_matrix = np.zeros((vocab_size+1, embedding_dim))\n",
        "for word, i in word_index.items():\n",
        "    embedding_vector = embeddings_index.get(word)\n",
        "    if embedding_vector is not None:\n",
        "        embeddings_matrix[i] = embedding_vector"
      ],
      "execution_count": 18,
      "outputs": [
        {
          "output_type": "stream",
          "text": [
            "--2020-09-25 10:00:52--  https://storage.googleapis.com/laurencemoroney-blog.appspot.com/glove.6B.100d.txt\n",
            "Resolving storage.googleapis.com (storage.googleapis.com)... 64.233.188.128, 64.233.189.128, 108.177.97.128, ...\n",
            "Connecting to storage.googleapis.com (storage.googleapis.com)|64.233.188.128|:443... connected.\n",
            "HTTP request sent, awaiting response... 200 OK\n",
            "Length: 347116733 (331M) [text/plain]\n",
            "Saving to: ‘/tmp/glove.6B.100d.txt’\n",
            "\n",
            "/tmp/glove.6B.100d. 100%[===================>] 331.04M   116MB/s    in 2.9s    \n",
            "\n",
            "2020-09-25 10:00:55 (116 MB/s) - ‘/tmp/glove.6B.100d.txt’ saved [347116733/347116733]\n",
            "\n"
          ],
          "name": "stdout"
        }
      ]
    },
    {
      "cell_type": "code",
      "metadata": {
        "id": "4WCyRP1QY2oF",
        "colab_type": "code",
        "colab": {
          "base_uri": "https://localhost:8080/",
          "height": 36
        },
        "outputId": "8fbdb7ea-d9b9-4a53-b5ba-6fe8ae15c9b6"
      },
      "source": [
        "print(len(embeddings_matrix))"
      ],
      "execution_count": 19,
      "outputs": [
        {
          "output_type": "stream",
          "text": [
            "138639\n"
          ],
          "name": "stdout"
        }
      ]
    },
    {
      "cell_type": "code",
      "metadata": {
        "id": "nxN4sIHCY_2i",
        "colab_type": "code",
        "colab": {
          "base_uri": "https://localhost:8080/",
          "height": 1000
        },
        "outputId": "64b69eff-e6f5-44b7-f029-4007a9fdf094"
      },
      "source": [
        "model = tf.keras.Sequential([\n",
        "    tf.keras.layers.Embedding(vocab_size+1, embedding_dim, input_length=max_length, weights=[embeddings_matrix], trainable=False),\n",
        "    tf.keras.layers.Dropout(0.3),\n",
        "    tf.keras.layers.Conv1D(128, 5, activation=tf.nn.relu),\n",
        "    tf.keras.layers.MaxPool1D(pool_size=4),\n",
        "    tf.keras.layers.Bidirectional(tf.keras.layers.LSTM(64, return_sequences=True)),\n",
        "    tf.keras.layers.Bidirectional(tf.keras.layers.LSTM(32)),\n",
        "    tf.keras.layers.Dense(128, activation=tf.nn.relu),\n",
        "    tf.keras.layers.Dense(1, activation=tf.nn.sigmoid)\n",
        "])\n",
        "model.compile(loss='binary_crossentropy', optimizer='adam', metrics=['accuracy'])\n",
        "model.summary()\n",
        "\n",
        "num_epochs = 50\n",
        "\n",
        "training_padded = np.array(training_sequences)\n",
        "training_labels = np.array(training_labels)\n",
        "testing_padded = np.array(test_sequences)\n",
        "testing_labels = np.array(test_labels)\n",
        "history = model.fit(training_padded, training_labels, epochs=num_epochs, validation_data=(testing_padded, testing_labels), verbose=2)\n",
        "\n",
        "print(\"Training Complete\")\n"
      ],
      "execution_count": 25,
      "outputs": [
        {
          "output_type": "stream",
          "text": [
            "Model: \"sequential_3\"\n",
            "_________________________________________________________________\n",
            "Layer (type)                 Output Shape              Param #   \n",
            "=================================================================\n",
            "embedding_3 (Embedding)      (None, 16, 100)           13863900  \n",
            "_________________________________________________________________\n",
            "dropout_3 (Dropout)          (None, 16, 100)           0         \n",
            "_________________________________________________________________\n",
            "conv1d_3 (Conv1D)            (None, 12, 128)           64128     \n",
            "_________________________________________________________________\n",
            "max_pooling1d_3 (MaxPooling1 (None, 3, 128)            0         \n",
            "_________________________________________________________________\n",
            "bidirectional_6 (Bidirection (None, 3, 128)            98816     \n",
            "_________________________________________________________________\n",
            "bidirectional_7 (Bidirection (None, 64)                41216     \n",
            "_________________________________________________________________\n",
            "dense_6 (Dense)              (None, 128)               8320      \n",
            "_________________________________________________________________\n",
            "dense_7 (Dense)              (None, 1)                 129       \n",
            "=================================================================\n",
            "Total params: 14,076,509\n",
            "Trainable params: 212,609\n",
            "Non-trainable params: 13,863,900\n",
            "_________________________________________________________________\n",
            "Epoch 1/50\n",
            "4500/4500 - 45s - loss: 0.5746 - accuracy: 0.6932 - val_loss: 0.5339 - val_accuracy: 0.7264\n",
            "Epoch 2/50\n",
            "4500/4500 - 43s - loss: 0.5352 - accuracy: 0.7259 - val_loss: 0.5150 - val_accuracy: 0.7422\n",
            "Epoch 3/50\n",
            "4500/4500 - 43s - loss: 0.5175 - accuracy: 0.7388 - val_loss: 0.5197 - val_accuracy: 0.7394\n",
            "Epoch 4/50\n",
            "4500/4500 - 43s - loss: 0.5067 - accuracy: 0.7465 - val_loss: 0.5171 - val_accuracy: 0.7389\n",
            "Epoch 5/50\n",
            "4500/4500 - 43s - loss: 0.4968 - accuracy: 0.7526 - val_loss: 0.5058 - val_accuracy: 0.7530\n",
            "Epoch 6/50\n",
            "4500/4500 - 42s - loss: 0.4887 - accuracy: 0.7580 - val_loss: 0.5002 - val_accuracy: 0.7531\n",
            "Epoch 7/50\n",
            "4500/4500 - 42s - loss: 0.4845 - accuracy: 0.7605 - val_loss: 0.5083 - val_accuracy: 0.7522\n",
            "Epoch 8/50\n",
            "4500/4500 - 43s - loss: 0.4777 - accuracy: 0.7663 - val_loss: 0.5041 - val_accuracy: 0.7529\n",
            "Epoch 9/50\n",
            "4500/4500 - 42s - loss: 0.4734 - accuracy: 0.7678 - val_loss: 0.5075 - val_accuracy: 0.7534\n",
            "Epoch 10/50\n",
            "4500/4500 - 43s - loss: 0.4694 - accuracy: 0.7714 - val_loss: 0.5022 - val_accuracy: 0.7519\n",
            "Epoch 11/50\n",
            "4500/4500 - 42s - loss: 0.4651 - accuracy: 0.7734 - val_loss: 0.4977 - val_accuracy: 0.7567\n",
            "Epoch 12/50\n",
            "4500/4500 - 42s - loss: 0.4624 - accuracy: 0.7752 - val_loss: 0.5061 - val_accuracy: 0.7521\n",
            "Epoch 13/50\n",
            "4500/4500 - 42s - loss: 0.4595 - accuracy: 0.7767 - val_loss: 0.5131 - val_accuracy: 0.7521\n",
            "Epoch 14/50\n",
            "4500/4500 - 42s - loss: 0.4571 - accuracy: 0.7789 - val_loss: 0.4989 - val_accuracy: 0.7549\n",
            "Epoch 15/50\n",
            "4500/4500 - 42s - loss: 0.4529 - accuracy: 0.7808 - val_loss: 0.5168 - val_accuracy: 0.7550\n",
            "Epoch 16/50\n",
            "4500/4500 - 42s - loss: 0.4502 - accuracy: 0.7824 - val_loss: 0.5072 - val_accuracy: 0.7566\n",
            "Epoch 17/50\n",
            "4500/4500 - 42s - loss: 0.4488 - accuracy: 0.7839 - val_loss: 0.5127 - val_accuracy: 0.7533\n",
            "Epoch 18/50\n",
            "4500/4500 - 42s - loss: 0.4466 - accuracy: 0.7845 - val_loss: 0.5107 - val_accuracy: 0.7525\n",
            "Epoch 19/50\n",
            "4500/4500 - 42s - loss: 0.4448 - accuracy: 0.7862 - val_loss: 0.5078 - val_accuracy: 0.7517\n",
            "Epoch 20/50\n",
            "4500/4500 - 42s - loss: 0.4434 - accuracy: 0.7880 - val_loss: 0.5083 - val_accuracy: 0.7544\n",
            "Epoch 21/50\n",
            "4500/4500 - 42s - loss: 0.4419 - accuracy: 0.7876 - val_loss: 0.5128 - val_accuracy: 0.7498\n",
            "Epoch 22/50\n",
            "4500/4500 - 42s - loss: 0.4404 - accuracy: 0.7886 - val_loss: 0.5144 - val_accuracy: 0.7523\n",
            "Epoch 23/50\n",
            "4500/4500 - 42s - loss: 0.4388 - accuracy: 0.7900 - val_loss: 0.5192 - val_accuracy: 0.7501\n",
            "Epoch 24/50\n",
            "4500/4500 - 42s - loss: 0.4373 - accuracy: 0.7894 - val_loss: 0.5151 - val_accuracy: 0.7510\n",
            "Epoch 25/50\n",
            "4500/4500 - 42s - loss: 0.4360 - accuracy: 0.7908 - val_loss: 0.5104 - val_accuracy: 0.7517\n",
            "Epoch 26/50\n",
            "4500/4500 - 42s - loss: 0.4350 - accuracy: 0.7917 - val_loss: 0.5103 - val_accuracy: 0.7511\n",
            "Epoch 27/50\n",
            "4500/4500 - 41s - loss: 0.4347 - accuracy: 0.7914 - val_loss: 0.5112 - val_accuracy: 0.7492\n",
            "Epoch 28/50\n",
            "4500/4500 - 41s - loss: 0.4324 - accuracy: 0.7923 - val_loss: 0.5191 - val_accuracy: 0.7524\n",
            "Epoch 29/50\n",
            "4500/4500 - 42s - loss: 0.4311 - accuracy: 0.7941 - val_loss: 0.5120 - val_accuracy: 0.7524\n",
            "Epoch 30/50\n",
            "4500/4500 - 41s - loss: 0.4305 - accuracy: 0.7940 - val_loss: 0.5185 - val_accuracy: 0.7487\n",
            "Epoch 31/50\n",
            "4500/4500 - 41s - loss: 0.4314 - accuracy: 0.7939 - val_loss: 0.5231 - val_accuracy: 0.7493\n",
            "Epoch 32/50\n",
            "4500/4500 - 42s - loss: 0.4316 - accuracy: 0.7935 - val_loss: 0.5189 - val_accuracy: 0.7495\n",
            "Epoch 33/50\n",
            "4500/4500 - 41s - loss: 0.4305 - accuracy: 0.7936 - val_loss: 0.5136 - val_accuracy: 0.7476\n",
            "Epoch 34/50\n",
            "4500/4500 - 41s - loss: 0.4280 - accuracy: 0.7951 - val_loss: 0.5289 - val_accuracy: 0.7467\n",
            "Epoch 35/50\n",
            "4500/4500 - 41s - loss: 0.4290 - accuracy: 0.7961 - val_loss: 0.5186 - val_accuracy: 0.7491\n",
            "Epoch 36/50\n",
            "4500/4500 - 41s - loss: 0.4279 - accuracy: 0.7951 - val_loss: 0.5153 - val_accuracy: 0.7511\n",
            "Epoch 37/50\n",
            "4500/4500 - 41s - loss: 0.4273 - accuracy: 0.7958 - val_loss: 0.5202 - val_accuracy: 0.7474\n",
            "Epoch 38/50\n",
            "4500/4500 - 42s - loss: 0.4258 - accuracy: 0.7967 - val_loss: 0.5297 - val_accuracy: 0.7499\n",
            "Epoch 39/50\n",
            "4500/4500 - 41s - loss: 0.4254 - accuracy: 0.7977 - val_loss: 0.5370 - val_accuracy: 0.7508\n",
            "Epoch 40/50\n",
            "4500/4500 - 41s - loss: 0.4256 - accuracy: 0.7980 - val_loss: 0.5273 - val_accuracy: 0.7469\n",
            "Epoch 41/50\n",
            "4500/4500 - 41s - loss: 0.4254 - accuracy: 0.7983 - val_loss: 0.5181 - val_accuracy: 0.7513\n",
            "Epoch 42/50\n",
            "4500/4500 - 41s - loss: 0.4239 - accuracy: 0.7972 - val_loss: 0.5218 - val_accuracy: 0.7486\n",
            "Epoch 43/50\n",
            "4500/4500 - 41s - loss: 0.4246 - accuracy: 0.7980 - val_loss: 0.5212 - val_accuracy: 0.7489\n",
            "Epoch 44/50\n",
            "4500/4500 - 41s - loss: 0.4231 - accuracy: 0.7979 - val_loss: 0.5148 - val_accuracy: 0.7501\n",
            "Epoch 45/50\n",
            "4500/4500 - 41s - loss: 0.4230 - accuracy: 0.7988 - val_loss: 0.5244 - val_accuracy: 0.7469\n",
            "Epoch 46/50\n",
            "4500/4500 - 41s - loss: 0.4249 - accuracy: 0.7976 - val_loss: 0.5170 - val_accuracy: 0.7486\n",
            "Epoch 47/50\n",
            "4500/4500 - 41s - loss: 0.4217 - accuracy: 0.7987 - val_loss: 0.5134 - val_accuracy: 0.7531\n",
            "Epoch 48/50\n",
            "4500/4500 - 40s - loss: 0.4231 - accuracy: 0.7981 - val_loss: 0.5207 - val_accuracy: 0.7524\n",
            "Epoch 49/50\n",
            "4500/4500 - 41s - loss: 0.4222 - accuracy: 0.7987 - val_loss: 0.5206 - val_accuracy: 0.7486\n",
            "Epoch 50/50\n",
            "4500/4500 - 40s - loss: 0.4210 - accuracy: 0.7989 - val_loss: 0.5205 - val_accuracy: 0.7499\n",
            "Training Complete\n"
          ],
          "name": "stdout"
        }
      ]
    },
    {
      "cell_type": "code",
      "metadata": {
        "id": "6Shfy_x_2mbW",
        "colab_type": "code",
        "colab": {
          "base_uri": "https://localhost:8080/",
          "height": 622
        },
        "outputId": "8ff1daf8-75cd-4861-f76c-44f742762f20"
      },
      "source": [
        "import matplotlib.image  as mpimg\n",
        "import matplotlib.pyplot as plt\n",
        "\n",
        "#-----------------------------------------------------------\n",
        "# Retrieve a list of list results on training and test data\n",
        "# sets for each training epoch\n",
        "#-----------------------------------------------------------\n",
        "acc=history.history['accuracy']\n",
        "val_acc=history.history['val_accuracy']\n",
        "loss=history.history['loss']\n",
        "val_loss=history.history['val_loss']\n",
        "\n",
        "epochs=range(len(acc)) # Get number of epochs\n",
        "\n",
        "#------------------------------------------------\n",
        "# Plot training and validation accuracy per epoch\n",
        "#------------------------------------------------\n",
        "plt.plot(epochs, acc, 'r')\n",
        "plt.plot(epochs, val_acc, 'b')\n",
        "plt.title('Training and validation accuracy')\n",
        "plt.xlabel(\"Epochs\")\n",
        "plt.ylabel(\"Accuracy\")\n",
        "plt.legend([\"Accuracy\", \"Validation Accuracy\"])\n",
        "\n",
        "plt.figure()\n",
        "\n",
        "#------------------------------------------------\n",
        "# Plot training and validation loss per epoch\n",
        "#------------------------------------------------\n",
        "plt.plot(epochs, loss, 'r')\n",
        "plt.plot(epochs, val_loss, 'b')\n",
        "plt.title('Training and validation loss')\n",
        "plt.xlabel(\"Epochs\")\n",
        "plt.ylabel(\"Loss\")\n",
        "plt.legend([\"Loss\", \"Validation Loss\"])\n",
        "\n",
        "plt.figure()\n",
        "\n",
        "\n",
        "# Expected Output\n",
        "# A chart where the validation loss does not increase sharply!"
      ],
      "execution_count": 26,
      "outputs": [
        {
          "output_type": "execute_result",
          "data": {
            "text/plain": [
              "<Figure size 432x288 with 0 Axes>"
            ]
          },
          "metadata": {
            "tags": []
          },
          "execution_count": 26
        },
        {
          "output_type": "display_data",
          "data": {
            "image/png": "[encoded data removed]",
            "text/plain": [
              "<Figure size 432x288 with 1 Axes>"
            ]
          },
          "metadata": {
            "tags": []
          }
        },
        {
          "output_type": "display_data",
          "data": {
            "image/png": "[encoded data removed]",
            "text/plain": [
              "<Figure size 432x288 with 1 Axes>"
            ]
          },
          "metadata": {
            "tags": []
          }
        },
        {
          "output_type": "display_data",
          "data": {
            "text/plain": [
              "<Figure size 432x288 with 0 Axes>"
            ]
          },
          "metadata": {
            "tags": []
          }
        }
      ]
    },
    {
      "cell_type": "code",
      "metadata": {
        "id": "thHERRFmr8I5",
        "colab_type": "code",
        "colab": {
          "base_uri": "https://localhost:8080/",
          "height": 1000
        },
        "outputId": "0148c803-a50d-4290-a69d-1f915ac19638"
      },
      "source": [
        "model_v2 = tf.keras.Sequential([\n",
        "    tf.keras.layers.Embedding(vocab_size+1, embedding_dim, input_length=max_length, weights=[embeddings_matrix], trainable=False),\n",
        "    tf.keras.layers.Dropout(0.3),\n",
        "    tf.keras.layers.Conv1D(128, 5, activation=tf.nn.relu),\n",
        "    tf.keras.layers.MaxPool1D(pool_size=4),\n",
        "    tf.keras.layers.Dropout(0.3),\n",
        "    tf.keras.layers.Bidirectional(tf.keras.layers.LSTM(64, return_sequences=True, recurrent_dropout=0.2)),\n",
        "    tf.keras.layers.Bidirectional(tf.keras.layers.LSTM(32, recurrent_dropout=0.2)),    \n",
        "    tf.keras.layers.Dense(128, activation=tf.nn.relu),\n",
        "    tf.keras.layers.Dense(1, activation=tf.nn.sigmoid)\n",
        "])\n",
        "model_v2.compile(loss='binary_crossentropy', optimizer='adam', metrics=['accuracy'])\n",
        "model_v2.summary()\n",
        "\n",
        "num_epochs = 50\n",
        "\n",
        "training_padded = np.array(training_sequences)\n",
        "training_labels = np.array(training_labels)\n",
        "testing_padded = np.array(test_sequences)\n",
        "testing_labels = np.array(test_labels)\n",
        "history_v2 = model_v2.fit(training_padded, training_labels, epochs=num_epochs, validation_data=(testing_padded, testing_labels), verbose=2)\n",
        "\n",
        "print(\"Training Complete\")\n"
      ],
      "execution_count": 28,
      "outputs": [
        {
          "output_type": "stream",
          "text": [
            "WARNING:tensorflow:Layer lstm_10 will not use cuDNN kernel since it doesn't meet the cuDNN kernel criteria. It will use generic GPU kernel as fallback when running on GPU\n",
            "WARNING:tensorflow:Layer lstm_10 will not use cuDNN kernel since it doesn't meet the cuDNN kernel criteria. It will use generic GPU kernel as fallback when running on GPU\n",
            "WARNING:tensorflow:Layer lstm_10 will not use cuDNN kernel since it doesn't meet the cuDNN kernel criteria. It will use generic GPU kernel as fallback when running on GPU\n",
            "WARNING:tensorflow:Layer lstm_11 will not use cuDNN kernel since it doesn't meet the cuDNN kernel criteria. It will use generic GPU kernel as fallback when running on GPU\n",
            "WARNING:tensorflow:Layer lstm_11 will not use cuDNN kernel since it doesn't meet the cuDNN kernel criteria. It will use generic GPU kernel as fallback when running on GPU\n",
            "WARNING:tensorflow:Layer lstm_11 will not use cuDNN kernel since it doesn't meet the cuDNN kernel criteria. It will use generic GPU kernel as fallback when running on GPU\n",
            "Model: \"sequential_5\"\n",
            "_________________________________________________________________\n",
            "Layer (type)                 Output Shape              Param #   \n",
            "=================================================================\n",
            "embedding_5 (Embedding)      (None, 16, 100)           13863900  \n",
            "_________________________________________________________________\n",
            "dropout_6 (Dropout)          (None, 16, 100)           0         \n",
            "_________________________________________________________________\n",
            "conv1d_5 (Conv1D)            (None, 12, 128)           64128     \n",
            "_________________________________________________________________\n",
            "max_pooling1d_5 (MaxPooling1 (None, 3, 128)            0         \n",
            "_________________________________________________________________\n",
            "dropout_7 (Dropout)          (None, 3, 128)            0         \n",
            "_________________________________________________________________\n",
            "bidirectional_10 (Bidirectio (None, 3, 128)            98816     \n",
            "_________________________________________________________________\n",
            "bidirectional_11 (Bidirectio (None, 64)                41216     \n",
            "_________________________________________________________________\n",
            "dense_10 (Dense)             (None, 128)               8320      \n",
            "_________________________________________________________________\n",
            "dense_11 (Dense)             (None, 1)                 129       \n",
            "=================================================================\n",
            "Total params: 14,076,509\n",
            "Trainable params: 212,609\n",
            "Non-trainable params: 13,863,900\n",
            "_________________________________________________________________\n",
            "Epoch 1/50\n",
            "4500/4500 - 111s - loss: 0.5871 - accuracy: 0.6817 - val_loss: 0.5391 - val_accuracy: 0.7253\n",
            "Epoch 2/50\n",
            "4500/4500 - 108s - loss: 0.5510 - accuracy: 0.7142 - val_loss: 0.5240 - val_accuracy: 0.7369\n",
            "Epoch 3/50\n",
            "4500/4500 - 108s - loss: 0.5395 - accuracy: 0.7231 - val_loss: 0.5205 - val_accuracy: 0.7409\n",
            "Epoch 4/50\n",
            "4500/4500 - 108s - loss: 0.5313 - accuracy: 0.7296 - val_loss: 0.5125 - val_accuracy: 0.7442\n",
            "Epoch 5/50\n",
            "4500/4500 - 108s - loss: 0.5267 - accuracy: 0.7328 - val_loss: 0.5118 - val_accuracy: 0.7473\n",
            "Epoch 6/50\n",
            "4500/4500 - 108s - loss: 0.5213 - accuracy: 0.7348 - val_loss: 0.5040 - val_accuracy: 0.7531\n",
            "Epoch 7/50\n",
            "4500/4500 - 108s - loss: 0.5166 - accuracy: 0.7400 - val_loss: 0.5020 - val_accuracy: 0.7531\n",
            "Epoch 8/50\n",
            "4500/4500 - 108s - loss: 0.5125 - accuracy: 0.7427 - val_loss: 0.5045 - val_accuracy: 0.7518\n",
            "Epoch 9/50\n",
            "4500/4500 - 108s - loss: 0.5103 - accuracy: 0.7441 - val_loss: 0.5000 - val_accuracy: 0.7554\n",
            "Epoch 10/50\n",
            "4500/4500 - 108s - loss: 0.5071 - accuracy: 0.7475 - val_loss: 0.5013 - val_accuracy: 0.7511\n",
            "Epoch 11/50\n",
            "4500/4500 - 109s - loss: 0.5051 - accuracy: 0.7484 - val_loss: 0.4974 - val_accuracy: 0.7542\n",
            "Epoch 12/50\n",
            "4500/4500 - 109s - loss: 0.5048 - accuracy: 0.7479 - val_loss: 0.5003 - val_accuracy: 0.7541\n",
            "Epoch 13/50\n",
            "4500/4500 - 109s - loss: 0.5009 - accuracy: 0.7520 - val_loss: 0.4934 - val_accuracy: 0.7585\n",
            "Epoch 14/50\n",
            "4500/4500 - 109s - loss: 0.5016 - accuracy: 0.7514 - val_loss: 0.5068 - val_accuracy: 0.7546\n",
            "Epoch 15/50\n",
            "4500/4500 - 109s - loss: 0.5002 - accuracy: 0.7527 - val_loss: 0.4974 - val_accuracy: 0.7566\n",
            "Epoch 16/50\n",
            "4500/4500 - 109s - loss: 0.4970 - accuracy: 0.7533 - val_loss: 0.4954 - val_accuracy: 0.7569\n",
            "Epoch 17/50\n",
            "4500/4500 - 109s - loss: 0.4980 - accuracy: 0.7514 - val_loss: 0.4961 - val_accuracy: 0.7563\n",
            "Epoch 18/50\n",
            "4500/4500 - 109s - loss: 0.4957 - accuracy: 0.7545 - val_loss: 0.4949 - val_accuracy: 0.7573\n",
            "Epoch 19/50\n",
            "4500/4500 - 109s - loss: 0.4951 - accuracy: 0.7550 - val_loss: 0.4934 - val_accuracy: 0.7560\n",
            "Epoch 20/50\n",
            "4500/4500 - 109s - loss: 0.4929 - accuracy: 0.7567 - val_loss: 0.4959 - val_accuracy: 0.7547\n",
            "Epoch 21/50\n",
            "4500/4500 - 109s - loss: 0.4943 - accuracy: 0.7560 - val_loss: 0.4943 - val_accuracy: 0.7589\n",
            "Epoch 22/50\n",
            "4500/4500 - 108s - loss: 0.4935 - accuracy: 0.7556 - val_loss: 0.4932 - val_accuracy: 0.7575\n",
            "Epoch 23/50\n",
            "4500/4500 - 108s - loss: 0.4907 - accuracy: 0.7580 - val_loss: 0.4911 - val_accuracy: 0.7610\n",
            "Epoch 24/50\n",
            "4500/4500 - 107s - loss: 0.4911 - accuracy: 0.7569 - val_loss: 0.4919 - val_accuracy: 0.7606\n",
            "Epoch 25/50\n",
            "4500/4500 - 107s - loss: 0.4913 - accuracy: 0.7570 - val_loss: 0.4936 - val_accuracy: 0.7574\n",
            "Epoch 26/50\n",
            "4500/4500 - 107s - loss: 0.4900 - accuracy: 0.7592 - val_loss: 0.4910 - val_accuracy: 0.7629\n",
            "Epoch 27/50\n",
            "4500/4500 - 108s - loss: 0.4886 - accuracy: 0.7604 - val_loss: 0.4919 - val_accuracy: 0.7559\n",
            "Epoch 28/50\n",
            "4500/4500 - 108s - loss: 0.4890 - accuracy: 0.7585 - val_loss: 0.4932 - val_accuracy: 0.7597\n",
            "Epoch 29/50\n",
            "4500/4500 - 108s - loss: 0.4886 - accuracy: 0.7589 - val_loss: 0.4899 - val_accuracy: 0.7612\n",
            "Epoch 30/50\n",
            "4500/4500 - 107s - loss: 0.4876 - accuracy: 0.7602 - val_loss: 0.4916 - val_accuracy: 0.7592\n",
            "Epoch 31/50\n",
            "4500/4500 - 107s - loss: 0.4861 - accuracy: 0.7592 - val_loss: 0.4931 - val_accuracy: 0.7563\n",
            "Epoch 32/50\n",
            "4500/4500 - 105s - loss: 0.4869 - accuracy: 0.7601 - val_loss: 0.4921 - val_accuracy: 0.7569\n",
            "Epoch 33/50\n",
            "4500/4500 - 105s - loss: 0.4865 - accuracy: 0.7612 - val_loss: 0.4905 - val_accuracy: 0.7591\n",
            "Epoch 34/50\n",
            "4500/4500 - 104s - loss: 0.4860 - accuracy: 0.7610 - val_loss: 0.4927 - val_accuracy: 0.7588\n",
            "Epoch 35/50\n",
            "4500/4500 - 104s - loss: 0.4849 - accuracy: 0.7626 - val_loss: 0.4923 - val_accuracy: 0.7617\n",
            "Epoch 36/50\n",
            "4500/4500 - 103s - loss: 0.4849 - accuracy: 0.7611 - val_loss: 0.4900 - val_accuracy: 0.7596\n",
            "Epoch 37/50\n",
            "4500/4500 - 105s - loss: 0.4858 - accuracy: 0.7610 - val_loss: 0.4925 - val_accuracy: 0.7584\n",
            "Epoch 38/50\n",
            "4500/4500 - 105s - loss: 0.4830 - accuracy: 0.7639 - val_loss: 0.4952 - val_accuracy: 0.7623\n",
            "Epoch 39/50\n",
            "4500/4500 - 105s - loss: 0.4850 - accuracy: 0.7615 - val_loss: 0.4912 - val_accuracy: 0.7609\n",
            "Epoch 40/50\n",
            "4500/4500 - 105s - loss: 0.4838 - accuracy: 0.7630 - val_loss: 0.4920 - val_accuracy: 0.7632\n",
            "Epoch 41/50\n",
            "4500/4500 - 105s - loss: 0.4843 - accuracy: 0.7616 - val_loss: 0.4904 - val_accuracy: 0.7591\n",
            "Epoch 42/50\n",
            "4500/4500 - 105s - loss: 0.4821 - accuracy: 0.7637 - val_loss: 0.4920 - val_accuracy: 0.7584\n",
            "Epoch 43/50\n",
            "4500/4500 - 106s - loss: 0.4835 - accuracy: 0.7626 - val_loss: 0.4922 - val_accuracy: 0.7598\n",
            "Epoch 44/50\n",
            "4500/4500 - 106s - loss: 0.4818 - accuracy: 0.7639 - val_loss: 0.4911 - val_accuracy: 0.7588\n",
            "Epoch 45/50\n",
            "4500/4500 - 106s - loss: 0.4822 - accuracy: 0.7633 - val_loss: 0.4923 - val_accuracy: 0.7553\n",
            "Epoch 46/50\n",
            "4500/4500 - 106s - loss: 0.4815 - accuracy: 0.7641 - val_loss: 0.4923 - val_accuracy: 0.7583\n",
            "Epoch 47/50\n",
            "4500/4500 - 106s - loss: 0.4826 - accuracy: 0.7640 - val_loss: 0.4906 - val_accuracy: 0.7583\n",
            "Epoch 48/50\n",
            "4500/4500 - 106s - loss: 0.4809 - accuracy: 0.7650 - val_loss: 0.4885 - val_accuracy: 0.7614\n",
            "Epoch 49/50\n",
            "4500/4500 - 106s - loss: 0.4815 - accuracy: 0.7630 - val_loss: 0.4903 - val_accuracy: 0.7596\n",
            "Epoch 50/50\n",
            "4500/4500 - 106s - loss: 0.4809 - accuracy: 0.7643 - val_loss: 0.4906 - val_accuracy: 0.7592\n",
            "Training Complete\n"
          ],
          "name": "stdout"
        }
      ]
    },
    {
      "cell_type": "code",
      "metadata": {
        "id": "PC5Zp13z2cdu",
        "colab_type": "code",
        "colab": {
          "base_uri": "https://localhost:8080/",
          "height": 622
        },
        "outputId": "f6a6b924-348e-4b4b-f9f8-d1e8a96c7c5d"
      },
      "source": [
        "import matplotlib.image  as mpimg\n",
        "import matplotlib.pyplot as plt\n",
        "\n",
        "#-----------------------------------------------------------\n",
        "# Retrieve a list of list results on training and test data\n",
        "# sets for each training epoch\n",
        "#-----------------------------------------------------------\n",
        "acc=history_v2.history['accuracy']\n",
        "val_acc=history_v2.history['val_accuracy']\n",
        "loss=history_v2.history['loss']\n",
        "val_loss=history_v2.history['val_loss']\n",
        "\n",
        "epochs=range(len(acc)) # Get number of epochs\n",
        "\n",
        "#------------------------------------------------\n",
        "# Plot training and validation accuracy per epoch\n",
        "#------------------------------------------------\n",
        "plt.plot(epochs, acc, 'r')\n",
        "plt.plot(epochs, val_acc, 'b')\n",
        "plt.title('Training and validation accuracy')\n",
        "plt.xlabel(\"Epochs\")\n",
        "plt.ylabel(\"Accuracy\")\n",
        "plt.legend([\"Accuracy\", \"Validation Accuracy\"])\n",
        "\n",
        "plt.figure()\n",
        "\n",
        "#------------------------------------------------\n",
        "# Plot training and validation loss per epoch\n",
        "#------------------------------------------------\n",
        "plt.plot(epochs, loss, 'r')\n",
        "plt.plot(epochs, val_loss, 'b')\n",
        "plt.title('Training and validation loss')\n",
        "plt.xlabel(\"Epochs\")\n",
        "plt.ylabel(\"Loss\")\n",
        "plt.legend([\"Loss\", \"Validation Loss\"])\n",
        "\n",
        "plt.figure()\n",
        "\n",
        "\n",
        "# Expected Output\n",
        "# A chart where the validation loss does not increase sharply!"
      ],
      "execution_count": 31,
      "outputs": [
        {
          "output_type": "execute_result",
          "data": {
            "text/plain": [
              "<Figure size 432x288 with 0 Axes>"
            ]
          },
          "metadata": {
            "tags": []
          },
          "execution_count": 31
        },
        {
          "output_type": "display_data",
          "data": {
            "image/png": "[encoded data removed]",
            "text/plain": [
              "<Figure size 432x288 with 1 Axes>"
            ]
          },
          "metadata": {
            "tags": []
          }
        },
        {
          "output_type": "display_data",
          "data": {
            "image/png": "[encoded data removed]",
            "text/plain": [
              "<Figure size 432x288 with 1 Axes>"
            ]
          },
          "metadata": {
            "tags": []
          }
        },
        {
          "output_type": "display_data",
          "data": {
            "text/plain": [
              "<Figure size 432x288 with 0 Axes>"
            ]
          },
          "metadata": {
            "tags": []
          }
        }
      ]
    },
    {
      "cell_type": "code",
      "metadata": {
        "id": "vXAn2SXOL-2b",
        "colab_type": "code",
        "colab": {}
      },
      "source": [
        ""
      ],
      "execution_count": null,
      "outputs": []
    }
  ]
}